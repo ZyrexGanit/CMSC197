{
 "cells": [
  {
   "cell_type": "markdown",
   "id": "eacead26-dfe9-4ad3-8716-f33985135b30",
   "metadata": {},
   "source": [
    "# CMSC 197 \n",
    "## Naive Baye's Theorem\n",
    "by Zyrex Djewel Ganit"
   ]
  },
  {
   "cell_type": "code",
   "execution_count": 1,
   "id": "3392ec76-2297-4992-91e8-a14a4b69e443",
   "metadata": {},
   "outputs": [],
   "source": [
    "import numpy as np\n",
    "import pandas as pd\n",
    "import os\n",
    "import re\n",
    "import email\n",
    "from collections import Counter\n",
    "from collections import defaultdict\n",
    "import matplotlib.pyplot as plt"
   ]
  },
  {
   "cell_type": "code",
   "execution_count": 3,
   "id": "1f6a4b2f-e702-48d9-941d-40a2d34ecc64",
   "metadata": {},
   "outputs": [],
   "source": [
    "%matplotlib inline"
   ]
  },
  {
   "cell_type": "code",
   "execution_count": 5,
   "id": "f7907840-6abd-4b97-9944-9f82ab67cd68",
   "metadata": {},
   "outputs": [],
   "source": [
    "# Define the DataFrame for storing email data\n",
    "df = pd.DataFrame(columns=[\"folder\", \"file\", \"message\", \"label\"])\n",
    "label_path = \"C:/Users/Zyrex/Documents/UPV COM-SCI - 4 - 1st SEM/CMSC 197/instructions/MP3-Naive Bayes Spam Filter/trec06p/labels\""
   ]
  },
  {
   "cell_type": "code",
   "execution_count": 7,
   "id": "deb81523-a30f-4f27-aa76-655efa0411eb",
   "metadata": {},
   "outputs": [],
   "source": [
    "# Load labels\n",
    "df_labels = pd.read_csv(label_path, sep=\" \", header=None)\n",
    "df_labels.columns = [\"categories\", \"filepath\"]\n",
    "df_labels[\"categories\"] = df_labels[\"categories\"].apply(lambda x: 0 if x == \"ham\" else 1)\n",
    "df_labels[\"filepath\"] = df_labels[\"filepath\"].apply(lambda x: x.replace(\"../data/\", \"\"))\n",
    "\n",
    "folder_path = \"C:/Users/Zyrex/Documents/UPV COM-SCI - 4 - 1st SEM/CMSC 197/instructions/MP3-Naive Bayes Spam Filter/trec06p/data\"\n",
    "folders = os.listdir(folder_path)\n",
    "folders = [folder for folder in folders if folder != '.DS_Store']"
   ]
  },
  {
   "cell_type": "markdown",
   "id": "f7ef5d97-3e71-41d8-9bd5-65dcce9fd11d",
   "metadata": {},
   "source": [
    "## Preprocessing"
   ]
  },
  {
   "cell_type": "code",
   "execution_count": 9,
   "id": "7577c80d-62cb-4146-a8d6-3b7352b8604f",
   "metadata": {},
   "outputs": [
    {
     "name": "stdout",
     "output_type": "stream",
     "text": [
      "  folder file                                      email_message  \\\n",
      "0    000  000  mailing list queried weeks ago running set arc...   \n",
      "1    000  001  luxury watches buy rolex rolex cartier bvlgari...   \n",
      "2    000  002  academic qualifications prestigious nonacc red...   \n",
      "3    000  003  greetings verify subscription planfans list ch...   \n",
      "4    000  004  multipart message mime format dragon charsetis...   \n",
      "\n",
      "   classification  \n",
      "0               0  \n",
      "1               1  \n",
      "2               1  \n",
      "3               0  \n",
      "4               1  \n"
     ]
    }
   ],
   "source": [
    "# define punctuation marks, numbers, escape characters, and tags for removal\n",
    "number = \"0123456789\"\n",
    "symbol = r\"!\\\"#$%&'()*+,-./:;<=>?@[\\]^_`{|}~\\\\\"\n",
    "tags = re.compile('<.*?>')\n",
    "esc_char = re.compile(r'\\\\[a-z][a-z]?[0-9]+')\n",
    "\n",
    "\n",
    "# load stop words\n",
    "with open('stop_words.txt', 'r') as file:\n",
    "    stop_words = file.read().splitlines()\n",
    "\n",
    "# function to extract the email body and remove headers\n",
    "def extract_message(email_content):\n",
    "    \"\"\"Extract plain text message from the email while removing headers.\"\"\"\n",
    "    lines = email_content.splitlines()\n",
    "    \n",
    "    message_lines = []\n",
    "    header_section = True  # initially in the header section\n",
    "    previous_line_had_colon = False  # track if the previous line was a header line\n",
    "\n",
    "    for line in lines:\n",
    "        line = line.strip()  # strip leading and trailing whitespace\n",
    "\n",
    "        if header_section:\n",
    "            # check if the line is part of a header (contains colon)\n",
    "            if ':' in line:\n",
    "                previous_line_had_colon = True  # This is a header line\n",
    "                continue  # Skip header lines\n",
    "            else:\n",
    "                # check if the line is a continuation of the previous header\n",
    "                if previous_line_had_colon:\n",
    "                    if line != '' and not line.startswith(\" \"):  # still in the header if indented or no colon\n",
    "                        continue\n",
    "                    else:\n",
    "                        header_section = False  # We're now in the body section\n",
    "                else:\n",
    "                    # if the previous line wasn't a header\n",
    "                    if line != '':\n",
    "                        header_section = False  # body section\n",
    "                        message_lines.append(line)  # capturing the body\n",
    "        else:\n",
    "            \n",
    "            if line != '':  # skip blank\n",
    "                message_lines.append(line)\n",
    "\n",
    "    # join all lines to form the complete message body\n",
    "    return \"\\n\".join(message_lines).strip()\n",
    "\n",
    "# remove header for multi line\n",
    "unwanted_words = ['contenttype', 'textplain', 'contenttransferencoding', 'bit', 'quotedprintable']\n",
    "\n",
    "# function to clean and process email content\n",
    "def clean_content(text):\n",
    "    \"\"\"Clean the email body content.\"\"\"\n",
    "    text = text.lower()  # convert to lowercase\n",
    "    text = re.sub(tags, '', text)  # remove HTML tags\n",
    "    text = text.translate(str.maketrans('', '', symbol))  # remove punctuation\n",
    "    text = text.translate(str.maketrans('', '', number))  # remove numbers\n",
    "    text = re.sub(esc_char, '', text)  # Remove escape characters\n",
    "    text = re.sub(r'http\\S+|www\\S+|https\\S+', '', text, flags=re.MULTILINE)  # remove URLs\n",
    "    words = text.split()  # Split text into words\n",
    "    words = [word for word in words if word not in stop_words and word not in unwanted_words and len(word) > 1]  # remove stop words and short words\n",
    "    return ' '.join(words)\n",
    "\n",
    "# function to process emails from a folder and return as DataFrame\n",
    "def process_emails(folder_path, df_labels):\n",
    "    \"\"\"Process all emails from the dataset and return a DataFrame with cleaned messages.\"\"\"\n",
    "    data_list = []\n",
    "\n",
    "    for folder in folders:\n",
    "        files = os.listdir(f\"{folder_path}/{folder}\")\n",
    "        for file in files:\n",
    "            email_file_path = f\"{folder_path}/{folder}/{file}\"\n",
    "            try:\n",
    "                with open(email_file_path, \"r\", encoding=\"ISO-8859-1\") as e_mail:  \n",
    "                    email_content = e_mail.read()\n",
    "                    # print(email_content)\n",
    "\n",
    "                    raw_message = extract_message(email_content)\n",
    "                   \n",
    "                    cleaned_message = clean_content(raw_message)\n",
    "\n",
    "\n",
    "                    # print(cleaned_message)\n",
    "\n",
    "                    # Get the classification (label) for the email\n",
    "                    classification = df_labels[df_labels['filepath'] == f\"{folder}/{file}\"]['categories'].values[0]\n",
    "\n",
    "                    # Append the data to the list\n",
    "                    data_list.append({\n",
    "                        \"folder\": folder,\n",
    "                        \"file\": file,\n",
    "                        \"email_message\": cleaned_message,\n",
    "                        \"classification\": classification\n",
    "                    })\n",
    "\n",
    "            except Exception as e:\n",
    "                print(f\"Error processing file {email_file_path}: {e}\")\n",
    "\n",
    "    # convert the list into a DataFrame\n",
    "    return pd.DataFrame(data_list)\n",
    "\n",
    "df = process_emails(folder_path, df_labels)\n",
    "print(df.head())  # display the first few rows of the DataFrame\n"
   ]
  },
  {
   "cell_type": "code",
   "execution_count": 11,
   "id": "9e27037c-f9e9-4049-a8d8-36feea156875",
   "metadata": {},
   "outputs": [
    {
     "data": {
      "text/html": [
       "<div>\n",
       "<style scoped>\n",
       "    .dataframe tbody tr th:only-of-type {\n",
       "        vertical-align: middle;\n",
       "    }\n",
       "\n",
       "    .dataframe tbody tr th {\n",
       "        vertical-align: top;\n",
       "    }\n",
       "\n",
       "    .dataframe thead th {\n",
       "        text-align: right;\n",
       "    }\n",
       "</style>\n",
       "<table border=\"1\" class=\"dataframe\">\n",
       "  <thead>\n",
       "    <tr style=\"text-align: right;\">\n",
       "      <th></th>\n",
       "      <th>folder</th>\n",
       "      <th>file</th>\n",
       "      <th>email_message</th>\n",
       "      <th>classification</th>\n",
       "    </tr>\n",
       "  </thead>\n",
       "  <tbody>\n",
       "    <tr>\n",
       "      <th>0</th>\n",
       "      <td>000</td>\n",
       "      <td>000</td>\n",
       "      <td>mailing list queried weeks ago running set arc...</td>\n",
       "      <td>0</td>\n",
       "    </tr>\n",
       "    <tr>\n",
       "      <th>1</th>\n",
       "      <td>000</td>\n",
       "      <td>001</td>\n",
       "      <td>luxury watches buy rolex rolex cartier bvlgari...</td>\n",
       "      <td>1</td>\n",
       "    </tr>\n",
       "    <tr>\n",
       "      <th>2</th>\n",
       "      <td>000</td>\n",
       "      <td>002</td>\n",
       "      <td>academic qualifications prestigious nonacc red...</td>\n",
       "      <td>1</td>\n",
       "    </tr>\n",
       "    <tr>\n",
       "      <th>3</th>\n",
       "      <td>000</td>\n",
       "      <td>003</td>\n",
       "      <td>greetings verify subscription planfans list ch...</td>\n",
       "      <td>0</td>\n",
       "    </tr>\n",
       "    <tr>\n",
       "      <th>4</th>\n",
       "      <td>000</td>\n",
       "      <td>004</td>\n",
       "      <td>multipart message mime format dragon charsetis...</td>\n",
       "      <td>1</td>\n",
       "    </tr>\n",
       "    <tr>\n",
       "      <th>...</th>\n",
       "      <td>...</td>\n",
       "      <td>...</td>\n",
       "      <td>...</td>\n",
       "      <td>...</td>\n",
       "    </tr>\n",
       "    <tr>\n",
       "      <th>37817</th>\n",
       "      <td>126</td>\n",
       "      <td>017</td>\n",
       "      <td>great news expec ted infinex ventures infx pri...</td>\n",
       "      <td>1</td>\n",
       "    </tr>\n",
       "    <tr>\n",
       "      <th>37818</th>\n",
       "      <td>126</td>\n",
       "      <td>018</td>\n",
       "      <td>oil sector going crazy weekly gift kkpt thing ...</td>\n",
       "      <td>1</td>\n",
       "    </tr>\n",
       "    <tr>\n",
       "      <th>37819</th>\n",
       "      <td>126</td>\n",
       "      <td>019</td>\n",
       "      <td>suffering pain depression heartburn well help ...</td>\n",
       "      <td>1</td>\n",
       "    </tr>\n",
       "    <tr>\n",
       "      <th>37820</th>\n",
       "      <td>126</td>\n",
       "      <td>020</td>\n",
       "      <td>prosperous future increased money earning powe...</td>\n",
       "      <td>1</td>\n",
       "    </tr>\n",
       "    <tr>\n",
       "      <th>37821</th>\n",
       "      <td>126</td>\n",
       "      <td>021</td>\n",
       "      <td>multipart message mime format dragon charsetis...</td>\n",
       "      <td>1</td>\n",
       "    </tr>\n",
       "  </tbody>\n",
       "</table>\n",
       "<p>37822 rows × 4 columns</p>\n",
       "</div>"
      ],
      "text/plain": [
       "      folder file                                      email_message  \\\n",
       "0        000  000  mailing list queried weeks ago running set arc...   \n",
       "1        000  001  luxury watches buy rolex rolex cartier bvlgari...   \n",
       "2        000  002  academic qualifications prestigious nonacc red...   \n",
       "3        000  003  greetings verify subscription planfans list ch...   \n",
       "4        000  004  multipart message mime format dragon charsetis...   \n",
       "...      ...  ...                                                ...   \n",
       "37817    126  017  great news expec ted infinex ventures infx pri...   \n",
       "37818    126  018  oil sector going crazy weekly gift kkpt thing ...   \n",
       "37819    126  019  suffering pain depression heartburn well help ...   \n",
       "37820    126  020  prosperous future increased money earning powe...   \n",
       "37821    126  021  multipart message mime format dragon charsetis...   \n",
       "\n",
       "       classification  \n",
       "0                   0  \n",
       "1                   1  \n",
       "2                   1  \n",
       "3                   0  \n",
       "4                   1  \n",
       "...               ...  \n",
       "37817               1  \n",
       "37818               1  \n",
       "37819               1  \n",
       "37820               1  \n",
       "37821               1  \n",
       "\n",
       "[37822 rows x 4 columns]"
      ]
     },
     "execution_count": 11,
     "metadata": {},
     "output_type": "execute_result"
    }
   ],
   "source": [
    "df"
   ]
  },
  {
   "cell_type": "code",
   "execution_count": 13,
   "id": "4ff3630f-c736-4184-9aa7-3dc576c8db3d",
   "metadata": {},
   "outputs": [
    {
     "name": "stdout",
     "output_type": "stream",
     "text": [
      "Training set for ham: 7523\n",
      "Training set for spam: 13777\n",
      "Testing set: 16522\n",
      "Sample Training Set for Ham:\n",
      "   folder file                                      email_message  \\\n",
      "0     000  000  mailing list queried weeks ago running set arc...   \n",
      "3     000  003  greetings verify subscription planfans list ch...   \n",
      "5     000  005           quiet quiet well straw poll plan running   \n",
      "6     000  006  working departed totally bell labs recommended...   \n",
      "10    000  010  greetings mass acknowledgement signed planfans...   \n",
      "\n",
      "    classification  \n",
      "0                0  \n",
      "3                0  \n",
      "5                0  \n",
      "6                0  \n",
      "10               0  \n",
      "Sample Training Set for Spam:\n",
      "  folder file                                      email_message  \\\n",
      "1    000  001  luxury watches buy rolex rolex cartier bvlgari...   \n",
      "2    000  002  academic qualifications prestigious nonacc red...   \n",
      "4    000  004  multipart message mime format dragon charsetis...   \n",
      "7    000  007  nbc today body diet beaches magazines hollywoo...   \n",
      "8    000  008  oil sector going crazy weekly gift kkpt thing ...   \n",
      "\n",
      "   classification  \n",
      "1               1  \n",
      "2               1  \n",
      "4               1  \n",
      "7               1  \n",
      "8               1  \n",
      "Sample Testing Set:\n",
      "      folder file                                      email_message  \\\n",
      "21300    071  000  charsetusascii hesitantly derive perverse sati...   \n",
      "21301    071  001  things perform experiment display will remain ...   \n",
      "21302    071  002  best offer month viggra ci ialis vaiium xa naa...   \n",
      "21303    071  003  multipart message mime format nextpartcf chars...   \n",
      "21304    071  004  multipart message mime format nextpartcddeb ch...   \n",
      "\n",
      "       classification  \n",
      "21300               1  \n",
      "21301               0  \n",
      "21302               1  \n",
      "21303               1  \n",
      "21304               1  \n",
      "Combined Training DataFrame:\n",
      "  folder file                                      email_message  \\\n",
      "0    000  000  mailing list queried weeks ago running set arc...   \n",
      "1    000  003  greetings verify subscription planfans list ch...   \n",
      "2    000  005           quiet quiet well straw poll plan running   \n",
      "3    000  006  working departed totally bell labs recommended...   \n",
      "4    000  010  greetings mass acknowledgement signed planfans...   \n",
      "\n",
      "   classification  \n",
      "0               0  \n",
      "1               0  \n",
      "2               0  \n",
      "3               0  \n",
      "4               0  \n",
      "Total number of emails in train_df: 21300\n"
     ]
    }
   ],
   "source": [
    "# split dataset into training set for ham, training set for spam, and testing set\n",
    "\n",
    "# separate the training and testing sets\n",
    "train_ham = df[(df['classification'] == 0) & (df['folder'].astype(int) <= 70)]\n",
    "train_spam = df[(df['classification'] == 1) & (df['folder'].astype(int) <= 70)]\n",
    "test_set = df[df['folder'].astype(int) > 70]\n",
    "\n",
    "# display the sizes of the datasets\n",
    "print(f\"Training set for ham: {len(train_ham)}\")\n",
    "print(f\"Training set for spam: {len(train_spam)}\")\n",
    "print(f\"Testing set: {len(test_set)}\")\n",
    "\n",
    "print(\"Sample Training Set for Ham:\")\n",
    "print(train_ham.head())\n",
    "\n",
    "print(\"Sample Training Set for Spam:\")\n",
    "print(train_spam.head())\n",
    "\n",
    "print(\"Sample Testing Set:\")\n",
    "print(test_set.head())\n",
    "\n",
    "# create a combined training DataFrame for ham and spam\n",
    "train_df = pd.concat([train_ham, train_spam], ignore_index=True)\n",
    " \n",
    "# display the first few rows of the combined training set\n",
    "print(\"Combined Training DataFrame:\")\n",
    "print(train_df.head())\n",
    "\n",
    "# display the sizes of the combined training DataFrame\n",
    "print(f\"Total number of emails in train_df: {len(train_df)}\")\n"
   ]
  },
  {
   "cell_type": "code",
   "execution_count": 15,
   "id": "53b8c4d0-058d-4078-84b9-c6cff486992b",
   "metadata": {},
   "outputs": [
    {
     "name": "stdout",
     "output_type": "stream",
     "text": [
      "           word  count\n",
      "6457         px  34320\n",
      "113167     \u001bb\u001bb  18352\n",
      "13366      nbsp  16921\n",
      "23         will  12899\n",
      "47408     float  12726\n",
      "...         ...    ...\n",
      "128393     helm     26\n",
      "974     porting     26\n",
      "44585   recieve     26\n",
      "8014    ruetten     26\n",
      "15329     hadnt     26\n",
      "\n",
      "[10000 rows x 2 columns]\n"
     ]
    }
   ],
   "source": [
    "# combine messages from ham and spam sets\n",
    "combined_messages = pd.concat([train_ham['email_message'], train_spam['email_message']])\n",
    "\n",
    "# counter for word occurence using Counter()\n",
    "word_counts = Counter()\n",
    "\n",
    "for message in combined_messages:\n",
    "    # split the message into words\n",
    "    words = message.split()  \n",
    "    # update the counts with the words from the message\n",
    "    word_counts.update(words)  \n",
    "\n",
    "# create a dataframe from the word counts\n",
    "word_frequency_df = pd.DataFrame(word_counts.items(), columns=['word', 'count'])\n",
    "\n",
    "# sort by count in descending order and take the top 10000 words\n",
    "top_10000_words = word_frequency_df.sort_values(by='count', ascending=False).head(10000)\n",
    "\n",
    "# display the top 10000 words\n",
    "print(top_10000_words)"
   ]
  },
  {
   "cell_type": "markdown",
   "id": "7f63d56c-24b0-461f-8413-912f3610816f",
   "metadata": {},
   "source": [
    "## Creating the feature matrices"
   ]
  },
  {
   "cell_type": "code",
   "execution_count": 17,
   "id": "baf9fc0a-d5fb-45b8-b57f-355f0708785b",
   "metadata": {},
   "outputs": [
    {
     "name": "stdout",
     "output_type": "stream",
     "text": [
      "Ham Feature Matrix shape: (7523, 10000)\n",
      "Spam Feature Matrix shape: (13777, 10000)\n"
     ]
    }
   ],
   "source": [
    "# Feature Matrix  \n",
    "\n",
    "# get the list of top 10000 word\n",
    "top_words = top_10000_words['word'].tolist()\n",
    "\n",
    "# create a dictionary to map each word to an index (for faster lookup)\n",
    "word_to_index = {word: idx for idx, word in enumerate(top_words)}\n",
    "\n",
    "def create_feature_matrix(email_set, word_to_index, vocab_size=10000):\n",
    "    \"\"\"Create a feature matrix for the given email set based on the provided word_to_index.\"\"\"\n",
    "    # initialize the matrix with zeros\n",
    "    feature_matrix = np.zeros((len(email_set), vocab_size), dtype=int)\n",
    "    \n",
    "    for i, email in enumerate(email_set):\n",
    "        # tokenize email into words\n",
    "        words_in_email = set(email.split())   \n",
    "        \n",
    "        # check each word in the email and mark its presence in the matrix\n",
    "        for word in words_in_email:\n",
    "            # if the word is in the top 10000, we get the index of the word\n",
    "            if word in word_to_index:  \n",
    "                index = word_to_index[word]  \n",
    "                feature_matrix[i, index] = 1  # mark the word's presence\n",
    "    \n",
    "    return feature_matrix\n",
    "\n",
    "# create the feature matrix for ham and spam training sets\n",
    "ham_feature_matrix = create_feature_matrix(train_ham['email_message'], word_to_index)\n",
    "spam_feature_matrix = create_feature_matrix(train_spam['email_message'], word_to_index)\n",
    "\n",
    "# print the dimensions of the generated matrices\n",
    "print(\"Ham Feature Matrix shape:\", ham_feature_matrix.shape)\n",
    "print(\"Spam Feature Matrix shape:\", spam_feature_matrix.shape)\n"
   ]
  },
  {
   "cell_type": "code",
   "execution_count": 19,
   "id": "f4b2591e-6708-4ccb-b2a3-9168b8b273dc",
   "metadata": {},
   "outputs": [
    {
     "data": {
      "text/plain": [
       "array([[0, 0, 0, ..., 0, 0, 0],\n",
       "       [0, 0, 0, ..., 0, 0, 0],\n",
       "       [0, 0, 0, ..., 0, 0, 0],\n",
       "       ...,\n",
       "       [0, 0, 0, ..., 0, 0, 0],\n",
       "       [0, 0, 0, ..., 0, 0, 0],\n",
       "       [0, 0, 0, ..., 1, 0, 0]])"
      ]
     },
     "execution_count": 19,
     "metadata": {},
     "output_type": "execute_result"
    }
   ],
   "source": [
    "ham_feature_matrix"
   ]
  },
  {
   "cell_type": "code",
   "execution_count": 21,
   "id": "8e1381a7-8e0e-432b-8f8f-8b1f5add17e8",
   "metadata": {},
   "outputs": [
    {
     "data": {
      "text/plain": [
       "array([[0, 0, 0, ..., 0, 0, 0],\n",
       "       [0, 0, 0, ..., 0, 0, 0],\n",
       "       [0, 0, 0, ..., 0, 0, 0],\n",
       "       ...,\n",
       "       [1, 0, 1, ..., 0, 0, 0],\n",
       "       [1, 0, 0, ..., 0, 0, 0],\n",
       "       [0, 0, 0, ..., 0, 0, 0]])"
      ]
     },
     "execution_count": 21,
     "metadata": {},
     "output_type": "execute_result"
    }
   ],
   "source": [
    "spam_feature_matrix"
   ]
  },
  {
   "cell_type": "markdown",
   "id": "6c635e48-3ceb-455b-8278-737da2700328",
   "metadata": {},
   "source": [
    "## Computing the Priors"
   ]
  },
  {
   "cell_type": "code",
   "execution_count": 23,
   "id": "8b09f757-1c93-46a6-86ed-b014462e8539",
   "metadata": {},
   "outputs": [
    {
     "name": "stdout",
     "output_type": "stream",
     "text": [
      "Prior Probability of Ham: 0.3531924882629108\n",
      "Prior Probability of Spam: 0.6468075117370892\n"
     ]
    }
   ],
   "source": [
    "# Computing the Priors\n",
    "# compute the prior probabilities for ham and spam\n",
    "\n",
    "def compute_priors(df):\n",
    "    # total number of emails in the training set\n",
    "    n_doc = len(train_df)\n",
    "    \n",
    "    # number of ham and spam emails\n",
    "    n_ham = len(train_ham)\n",
    "    n_spam = len(train_spam)\n",
    "    \n",
    "    # prior probabilities\n",
    "    p_ham = n_ham / n_doc\n",
    "    p_spam = n_spam / n_doc\n",
    "    \n",
    "    return p_ham, p_spam\n",
    "\n",
    "p_ham, p_spam = compute_priors(df)\n",
    "print(f\"Prior Probability of Ham: {p_ham}\")\n",
    "print(f\"Prior Probability of Spam: {p_spam}\")\n"
   ]
  },
  {
   "cell_type": "code",
   "execution_count": 25,
   "id": "9001e224-d865-4ebc-993c-3ebe57a0c2b4",
   "metadata": {},
   "outputs": [
    {
     "name": "stdout",
     "output_type": "stream",
     "text": [
      "Word likelihoods for ham and spam: \n",
      "Ham:\n",
      " [0.0005197453875963078, 0.0032638933148534974, 0.00021274552134771147, 0.00033303201864979306, 0.0008473914436803359, 0.0013240491307505249, 0.0001696578208215927, 0.0004093331549981284, 0.00010861691174292442, 0.003064612699920198]\n",
      "Spam:\n",
      " [9.132956689347906e-05, 0.00046942120046648334, 0.00023822327588299085, 0.0004796398932657537, 0.00018202046548700373, 0.00017435644588755094, 9.771624989302306e-05, 0.00015902840668864538, 0.00015775107008873657, 0.00015775107008873657]\n"
     ]
    }
   ],
   "source": [
    "def compute_word_likelihood(train_df, param, min_count):\n",
    "    ham_word_count = defaultdict(int)\n",
    "    spam_word_count = defaultdict(int)\n",
    "    total_ham_words = 0\n",
    "    total_spam_words = 0 \n",
    "\n",
    "    for index, row in train_df.iterrows():\n",
    "        # split the email message into words\n",
    "        words = row['email_message'].split()  \n",
    "        # ham\n",
    "        if row['classification'] == 0:  \n",
    "            for word in words:\n",
    "                ham_word_count[word] += 1\n",
    "                total_ham_words += 1\n",
    "        # spam      \n",
    "        else:  \n",
    "            for word in words:\n",
    "                spam_word_count[word] += 1\n",
    "                total_spam_words += 1\n",
    "\n",
    "    # Filter words based on minimum count\n",
    "    filtered_ham_word_count = {word: count for word, count in ham_word_count.items() if count > min_count}\n",
    "    filtered_spam_word_count = {word: count for word, count in spam_word_count.items() if count > min_count}\n",
    "\n",
    "    # calculate vocabulary size (distinct words in both ham and spam)\n",
    "    vocabulary_size = len(set(ham_word_count.keys()).union(set(spam_word_count.keys())))\n",
    "\n",
    "    word_likelihoods = {\n",
    "        'ham': {},\n",
    "        'spam': {}\n",
    "    }\n",
    "    \n",
    "    # Calculate likelihood for ham and spam using Laplace smoothing\n",
    "    \n",
    "    for word in filtered_ham_word_count:\n",
    "        word_likelihoods['ham'][word] = (filtered_ham_word_count[word] + param) / (total_ham_words + (param * vocabulary_size))\n",
    "\n",
    "    for word in filtered_spam_word_count:\n",
    "        word_likelihoods['spam'][word] = (filtered_spam_word_count[word] + param) / (total_spam_words + (param * vocabulary_size))\n",
    "    \n",
    "    return word_likelihoods, total_ham_words, total_spam_words, vocabulary_size \n",
    "\n",
    "word_likelihood, total_ham_words, total_spam_words, vocabulary_size = compute_word_likelihood(train_df, 1, 1)\n",
    "print(\"Word likelihoods for ham and spam: \")\n",
    "\n",
    "# printing only 10 likelihoods because of jupyter kernel constraints\n",
    "print(\"Ham:\\n\", list(word_likelihood['ham'].values())[:10])\n",
    "print(\"Spam:\\n\", list(word_likelihood['spam'].values())[:10])\n"
   ]
  },
  {
   "cell_type": "markdown",
   "id": "3f79ea16-6db1-4690-a57c-5cf58d6ef3b9",
   "metadata": {},
   "source": [
    "## Classifying the emails"
   ]
  },
  {
   "cell_type": "code",
   "execution_count": 28,
   "id": "6fc6fb65-553b-443c-9589-b1ff8951d740",
   "metadata": {},
   "outputs": [],
   "source": [
    "\n",
    "def classify_email(email, word_likelihoods, p_ham, p_spam, total_ham_words, total_spam_words, vocabulary_size):\n",
    "    words = email.split()\n",
    "\n",
    "    log_p_ham = np.log(p_ham)\n",
    "    log_p_spam = np.log(p_spam)\n",
    "\n",
    "    for word in words:\n",
    "        if word in word_likelihoods['ham']:\n",
    "            log_p_ham += np.log(word_likelihoods['ham'][word])\n",
    "        else:\n",
    "            log_p_ham += np.log(1 / (total_ham_words + vocabulary_size))\n",
    "\n",
    "        if word in word_likelihoods['spam']:\n",
    "            log_p_spam += np.log(word_likelihoods['spam'][word])\n",
    "        else:\n",
    "            log_p_spam += np.log(1 / (total_spam_words + vocabulary_size))\n",
    "            \n",
    "    if log_p_ham > log_p_spam:\n",
    "        return 0   # classify as ham\n",
    "    else:\n",
    "        return 1   # classify as spam\n",
    "        "
   ]
  },
  {
   "cell_type": "markdown",
   "id": "637b9653-183a-49a9-99e3-cd0cd97a9b9a",
   "metadata": {},
   "source": [
    "## Testing the Classifier"
   ]
  },
  {
   "cell_type": "code",
   "execution_count": 30,
   "id": "b4f274df-00ce-4141-9521-8d726cd8d72d",
   "metadata": {},
   "outputs": [
    {
     "name": "stdout",
     "output_type": "stream",
     "text": [
      "Test Set with Predictions:\n",
      "                                           email_message  classification  \\\n",
      "21300  charsetusascii hesitantly derive perverse sati...               1   \n",
      "21301  things perform experiment display will remain ...               0   \n",
      "21302  best offer month viggra ci ialis vaiium xa naa...               1   \n",
      "21303  multipart message mime format nextpartcf chars...               1   \n",
      "21304  multipart message mime format nextpartcddeb ch...               1   \n",
      "\n",
      "       predicted_class  \n",
      "21300                1  \n",
      "21301                0  \n",
      "21302                1  \n",
      "21303                1  \n",
      "21304                1  \n"
     ]
    },
    {
     "name": "stderr",
     "output_type": "stream",
     "text": [
      "C:\\Users\\Zyrex\\AppData\\Local\\Temp\\ipykernel_1672\\489971664.py:9: SettingWithCopyWarning: \n",
      "A value is trying to be set on a copy of a slice from a DataFrame.\n",
      "Try using .loc[row_indexer,col_indexer] = value instead\n",
      "\n",
      "See the caveats in the documentation: https://pandas.pydata.org/pandas-docs/stable/user_guide/indexing.html#returning-a-view-versus-a-copy\n",
      "  test_set['predicted_class'] = predictions\n"
     ]
    }
   ],
   "source": [
    "predictions = []\n",
    "\n",
    "for index, row in test_set.iterrows():\n",
    "    email = row['email_message']\n",
    "    prediction = classify_email(email, word_likelihood, p_ham, p_spam, total_ham_words, total_spam_words, vocabulary_size)\n",
    "    predictions.append(prediction)\n",
    "\n",
    "test_set['predicted_class'] = predictions\n",
    "\n",
    "print(\"Test Set with Predictions:\")\n",
    "print(test_set[['email_message', 'classification', 'predicted_class']].head())"
   ]
  },
  {
   "cell_type": "code",
   "execution_count": 32,
   "id": "fd3d8840-884d-480f-a91c-1561cc54494e",
   "metadata": {},
   "outputs": [
    {
     "data": {
      "text/html": [
       "<div>\n",
       "<style scoped>\n",
       "    .dataframe tbody tr th:only-of-type {\n",
       "        vertical-align: middle;\n",
       "    }\n",
       "\n",
       "    .dataframe tbody tr th {\n",
       "        vertical-align: top;\n",
       "    }\n",
       "\n",
       "    .dataframe thead th {\n",
       "        text-align: right;\n",
       "    }\n",
       "</style>\n",
       "<table border=\"1\" class=\"dataframe\">\n",
       "  <thead>\n",
       "    <tr style=\"text-align: right;\">\n",
       "      <th></th>\n",
       "      <th>folder</th>\n",
       "      <th>file</th>\n",
       "      <th>email_message</th>\n",
       "      <th>classification</th>\n",
       "      <th>predicted_class</th>\n",
       "    </tr>\n",
       "  </thead>\n",
       "  <tbody>\n",
       "    <tr>\n",
       "      <th>21300</th>\n",
       "      <td>071</td>\n",
       "      <td>000</td>\n",
       "      <td>charsetusascii hesitantly derive perverse sati...</td>\n",
       "      <td>1</td>\n",
       "      <td>1</td>\n",
       "    </tr>\n",
       "    <tr>\n",
       "      <th>21301</th>\n",
       "      <td>071</td>\n",
       "      <td>001</td>\n",
       "      <td>things perform experiment display will remain ...</td>\n",
       "      <td>0</td>\n",
       "      <td>0</td>\n",
       "    </tr>\n",
       "    <tr>\n",
       "      <th>21302</th>\n",
       "      <td>071</td>\n",
       "      <td>002</td>\n",
       "      <td>best offer month viggra ci ialis vaiium xa naa...</td>\n",
       "      <td>1</td>\n",
       "      <td>1</td>\n",
       "    </tr>\n",
       "    <tr>\n",
       "      <th>21303</th>\n",
       "      <td>071</td>\n",
       "      <td>003</td>\n",
       "      <td>multipart message mime format nextpartcf chars...</td>\n",
       "      <td>1</td>\n",
       "      <td>1</td>\n",
       "    </tr>\n",
       "    <tr>\n",
       "      <th>21304</th>\n",
       "      <td>071</td>\n",
       "      <td>004</td>\n",
       "      <td>multipart message mime format nextpartcddeb ch...</td>\n",
       "      <td>1</td>\n",
       "      <td>1</td>\n",
       "    </tr>\n",
       "    <tr>\n",
       "      <th>...</th>\n",
       "      <td>...</td>\n",
       "      <td>...</td>\n",
       "      <td>...</td>\n",
       "      <td>...</td>\n",
       "      <td>...</td>\n",
       "    </tr>\n",
       "    <tr>\n",
       "      <th>37817</th>\n",
       "      <td>126</td>\n",
       "      <td>017</td>\n",
       "      <td>great news expec ted infinex ventures infx pri...</td>\n",
       "      <td>1</td>\n",
       "      <td>1</td>\n",
       "    </tr>\n",
       "    <tr>\n",
       "      <th>37818</th>\n",
       "      <td>126</td>\n",
       "      <td>018</td>\n",
       "      <td>oil sector going crazy weekly gift kkpt thing ...</td>\n",
       "      <td>1</td>\n",
       "      <td>1</td>\n",
       "    </tr>\n",
       "    <tr>\n",
       "      <th>37819</th>\n",
       "      <td>126</td>\n",
       "      <td>019</td>\n",
       "      <td>suffering pain depression heartburn well help ...</td>\n",
       "      <td>1</td>\n",
       "      <td>1</td>\n",
       "    </tr>\n",
       "    <tr>\n",
       "      <th>37820</th>\n",
       "      <td>126</td>\n",
       "      <td>020</td>\n",
       "      <td>prosperous future increased money earning powe...</td>\n",
       "      <td>1</td>\n",
       "      <td>1</td>\n",
       "    </tr>\n",
       "    <tr>\n",
       "      <th>37821</th>\n",
       "      <td>126</td>\n",
       "      <td>021</td>\n",
       "      <td>multipart message mime format dragon charsetis...</td>\n",
       "      <td>1</td>\n",
       "      <td>1</td>\n",
       "    </tr>\n",
       "  </tbody>\n",
       "</table>\n",
       "<p>16522 rows × 5 columns</p>\n",
       "</div>"
      ],
      "text/plain": [
       "      folder file                                      email_message  \\\n",
       "21300    071  000  charsetusascii hesitantly derive perverse sati...   \n",
       "21301    071  001  things perform experiment display will remain ...   \n",
       "21302    071  002  best offer month viggra ci ialis vaiium xa naa...   \n",
       "21303    071  003  multipart message mime format nextpartcf chars...   \n",
       "21304    071  004  multipart message mime format nextpartcddeb ch...   \n",
       "...      ...  ...                                                ...   \n",
       "37817    126  017  great news expec ted infinex ventures infx pri...   \n",
       "37818    126  018  oil sector going crazy weekly gift kkpt thing ...   \n",
       "37819    126  019  suffering pain depression heartburn well help ...   \n",
       "37820    126  020  prosperous future increased money earning powe...   \n",
       "37821    126  021  multipart message mime format dragon charsetis...   \n",
       "\n",
       "       classification  predicted_class  \n",
       "21300               1                1  \n",
       "21301               0                0  \n",
       "21302               1                1  \n",
       "21303               1                1  \n",
       "21304               1                1  \n",
       "...               ...              ...  \n",
       "37817               1                1  \n",
       "37818               1                1  \n",
       "37819               1                1  \n",
       "37820               1                1  \n",
       "37821               1                1  \n",
       "\n",
       "[16522 rows x 5 columns]"
      ]
     },
     "execution_count": 32,
     "metadata": {},
     "output_type": "execute_result"
    }
   ],
   "source": [
    "test_set"
   ]
  },
  {
   "cell_type": "code",
   "execution_count": 36,
   "id": "e7bbff84-eaae-4bc5-ba4c-3206f183bf2d",
   "metadata": {},
   "outputs": [
    {
     "name": "stdout",
     "output_type": "stream",
     "text": [
      "Number of correct predictions: 15414 out of 16522\n",
      "Accuracy: 93.29%\n"
     ]
    }
   ],
   "source": [
    "# calculate the number of correct predictions\n",
    "correct_predictions = (test_set['classification'] == test_set['predicted_class']).sum()\n",
    "total_predictions = len(test_set)\n",
    "calculated_accuracy = correct_predictions/total_predictions\n",
    "\n",
    "print(f\"Number of correct predictions: {correct_predictions} out of {total_predictions}\")\n",
    "print(f\"Accuracy: {calculated_accuracy:.2%}\")\n"
   ]
  },
  {
   "cell_type": "markdown",
   "id": "548d1082-fe63-4a69-823e-fbc55768c979",
   "metadata": {},
   "source": [
    "## Performance Evaluation"
   ]
  },
  {
   "cell_type": "code",
   "execution_count": 38,
   "id": "65dea481-e6fb-4b39-9f80-2e6bee77f10b",
   "metadata": {},
   "outputs": [
    {
     "name": "stdout",
     "output_type": "stream",
     "text": [
      "Accuracy: The percentage of correctly identified spam and ham emails is 0.9329379009805109.\n",
      "\n",
      "Recall: The percentage of spam emails that are correctly classified as spam is 0.9218679838347553.\n",
      "\n",
      "Precision: number of relevant documents identified as a percentage of all documents identified is 0.9773398076739979.\n",
      "\n"
     ]
    }
   ],
   "source": [
    "# Performance Evaluation\n",
    "# true_label =\n",
    "\n",
    "tp = 0\n",
    "tn = 0\n",
    "fp = 0\n",
    "fn = 0\n",
    "\n",
    "for index, row in test_set.iterrows():\n",
    "    actual = row['classification']\n",
    "    predicted = row['predicted_class']\n",
    "\n",
    "    if actual == 1 and predicted == 1:\n",
    "        tp += 1\n",
    "    elif actual == 0 and predicted == 0:\n",
    "        tn += 1\n",
    "    elif actual == 0 and predicted == 1:\n",
    "        fp += 1\n",
    "    elif actual == 1 and predicted == 0:\n",
    "        fn += 1\n",
    "\n",
    "accuracy = (tn + tp) / (tn + tp + fp + fn)\n",
    "recall = tp / (tp + fn)\n",
    "precision = tp / (tp + fp)\n",
    "\n",
    "print(f\"Accuracy: The percentage of correctly identified spam and ham emails is {accuracy}.\\n\")\n",
    "print(f\"Recall: The percentage of spam emails that are correctly classified as spam is {recall}.\\n\")\n",
    "print(f\"Precision: number of relevant documents identified as a percentage of all documents identified is {precision}.\\n\")\n",
    "\n"
   ]
  },
  {
   "cell_type": "code",
   "execution_count": 40,
   "id": "4cdef0e9-8cd4-489f-8509-0c2e765adcc7",
   "metadata": {},
   "outputs": [
    {
     "data": {
      "image/png": "[encoded data removed]",
      "text/plain": [
       "<Figure size 800x500 with 1 Axes>"
      ]
     },
     "metadata": {},
     "output_type": "display_data"
    }
   ],
   "source": [
    "metrics = {\n",
    "    'Accuracy': accuracy,\n",
    "    'Recall': recall,\n",
    "    'Precision': precision\n",
    "}\n",
    "\n",
    "# bar plot\n",
    "plt.figure(figsize=(8, 5))\n",
    "plt.bar(metrics.keys(), metrics.values(), color=['blue', 'orange', 'green'])\n",
    "plt.ylim(0, 1)  \n",
    "plt.ylabel('Score')\n",
    "plt.title('Performance Evaluation of Spam Filter')\n",
    "\n",
    "# add value labels on top of the bars\n",
    "for index, value in enumerate(metrics.values()):\n",
    "    plt.text(index, value + 0.02, f\"{value:.2f}\", ha='center', va='bottom')\n",
    "\n",
    "plt.show()\n",
    "\n"
   ]
  },
  {
   "cell_type": "code",
   "execution_count": 42,
   "id": "f7df745b-4c72-4dcb-a379-d1ea114e5f54",
   "metadata": {},
   "outputs": [],
   "source": [
    "# when stop words are retained\n",
    "stop_words = ''\n",
    "df_2 = process_emails(folder_path, df_labels)\n"
   ]
  },
  {
   "cell_type": "code",
   "execution_count": 44,
   "id": "0ef889de-d6de-4696-8111-d3b77694a04b",
   "metadata": {},
   "outputs": [
    {
     "data": {
      "text/html": [
       "<div>\n",
       "<style scoped>\n",
       "    .dataframe tbody tr th:only-of-type {\n",
       "        vertical-align: middle;\n",
       "    }\n",
       "\n",
       "    .dataframe tbody tr th {\n",
       "        vertical-align: top;\n",
       "    }\n",
       "\n",
       "    .dataframe thead th {\n",
       "        text-align: right;\n",
       "    }\n",
       "</style>\n",
       "<table border=\"1\" class=\"dataframe\">\n",
       "  <thead>\n",
       "    <tr style=\"text-align: right;\">\n",
       "      <th></th>\n",
       "      <th>folder</th>\n",
       "      <th>file</th>\n",
       "      <th>email_message</th>\n",
       "      <th>classification</th>\n",
       "    </tr>\n",
       "  </thead>\n",
       "  <tbody>\n",
       "    <tr>\n",
       "      <th>0</th>\n",
       "      <td>000</td>\n",
       "      <td>000</td>\n",
       "      <td>the mailing list queried about few weeks ago i...</td>\n",
       "      <td>0</td>\n",
       "    </tr>\n",
       "    <tr>\n",
       "      <th>1</th>\n",
       "      <td>000</td>\n",
       "      <td>001</td>\n",
       "      <td>luxury watches buy your own rolex for only rol...</td>\n",
       "      <td>1</td>\n",
       "    </tr>\n",
       "    <tr>\n",
       "      <th>2</th>\n",
       "      <td>000</td>\n",
       "      <td>002</td>\n",
       "      <td>academic qualifications available from prestig...</td>\n",
       "      <td>1</td>\n",
       "    </tr>\n",
       "    <tr>\n",
       "      <th>3</th>\n",
       "      <td>000</td>\n",
       "      <td>003</td>\n",
       "      <td>greetings all this is to verify your subscript...</td>\n",
       "      <td>0</td>\n",
       "    </tr>\n",
       "    <tr>\n",
       "      <th>4</th>\n",
       "      <td>000</td>\n",
       "      <td>004</td>\n",
       "      <td>this is multipart message in mime format drago...</td>\n",
       "      <td>1</td>\n",
       "    </tr>\n",
       "    <tr>\n",
       "      <th>...</th>\n",
       "      <td>...</td>\n",
       "      <td>...</td>\n",
       "      <td>...</td>\n",
       "      <td>...</td>\n",
       "    </tr>\n",
       "    <tr>\n",
       "      <th>37817</th>\n",
       "      <td>126</td>\n",
       "      <td>017</td>\n",
       "      <td>great news expec ted infinex ventures inc infx...</td>\n",
       "      <td>1</td>\n",
       "    </tr>\n",
       "    <tr>\n",
       "      <th>37818</th>\n",
       "      <td>126</td>\n",
       "      <td>018</td>\n",
       "      <td>the oil sector is going crazy this is our week...</td>\n",
       "      <td>1</td>\n",
       "    </tr>\n",
       "    <tr>\n",
       "      <th>37819</th>\n",
       "      <td>126</td>\n",
       "      <td>019</td>\n",
       "      <td>suffering from pain depression or heartburn we...</td>\n",
       "      <td>1</td>\n",
       "    </tr>\n",
       "    <tr>\n",
       "      <th>37820</th>\n",
       "      <td>126</td>\n",
       "      <td>020</td>\n",
       "      <td>do you want for prosperous future increased mo...</td>\n",
       "      <td>1</td>\n",
       "    </tr>\n",
       "    <tr>\n",
       "      <th>37821</th>\n",
       "      <td>126</td>\n",
       "      <td>021</td>\n",
       "      <td>this is multipart message in mime format drago...</td>\n",
       "      <td>1</td>\n",
       "    </tr>\n",
       "  </tbody>\n",
       "</table>\n",
       "<p>37822 rows × 4 columns</p>\n",
       "</div>"
      ],
      "text/plain": [
       "      folder file                                      email_message  \\\n",
       "0        000  000  the mailing list queried about few weeks ago i...   \n",
       "1        000  001  luxury watches buy your own rolex for only rol...   \n",
       "2        000  002  academic qualifications available from prestig...   \n",
       "3        000  003  greetings all this is to verify your subscript...   \n",
       "4        000  004  this is multipart message in mime format drago...   \n",
       "...      ...  ...                                                ...   \n",
       "37817    126  017  great news expec ted infinex ventures inc infx...   \n",
       "37818    126  018  the oil sector is going crazy this is our week...   \n",
       "37819    126  019  suffering from pain depression or heartburn we...   \n",
       "37820    126  020  do you want for prosperous future increased mo...   \n",
       "37821    126  021  this is multipart message in mime format drago...   \n",
       "\n",
       "       classification  \n",
       "0                   0  \n",
       "1                   1  \n",
       "2                   1  \n",
       "3                   0  \n",
       "4                   1  \n",
       "...               ...  \n",
       "37817               1  \n",
       "37818               1  \n",
       "37819               1  \n",
       "37820               1  \n",
       "37821               1  \n",
       "\n",
       "[37822 rows x 4 columns]"
      ]
     },
     "execution_count": 44,
     "metadata": {},
     "output_type": "execute_result"
    }
   ],
   "source": [
    "df_2"
   ]
  },
  {
   "cell_type": "code",
   "execution_count": 46,
   "id": "e8a8d27f-c042-478d-8c2a-51e15b4413cf",
   "metadata": {},
   "outputs": [
    {
     "name": "stdout",
     "output_type": "stream",
     "text": [
      "Training set for ham: 7523\n",
      "Training set for spam: 13777\n",
      "Testing set: 16522\n",
      "Combined Training DataFrame:\n",
      "  folder file                                      email_message  \\\n",
      "0    000  000  the mailing list queried about few weeks ago i...   \n",
      "1    000  003  greetings all this is to verify your subscript...   \n",
      "2    000  005  its quiet too quiet well how about straw poll ...   \n",
      "3    000  006  its working here have departed almost totally ...   \n",
      "4    000  010  greetings all this is mass acknowledgement to ...   \n",
      "\n",
      "   classification  \n",
      "0               0  \n",
      "1               0  \n",
      "2               0  \n",
      "3               0  \n",
      "4               0  \n",
      "Total number of emails in train_df: 21300\n"
     ]
    }
   ],
   "source": [
    "# split dataset into training set for ham, training set for spam, and testing set\n",
    "\n",
    "# separate the training and testing sets\n",
    "train_ham2 = df_2[(df_2['classification'] == 0) & (df_2['folder'].astype(int) <= 70)]\n",
    "train_spam2 = df_2[(df_2['classification'] == 1) & (df_2['folder'].astype(int) <= 70)]\n",
    "test_set2 = df_2[df_2['folder'].astype(int) > 70]\n",
    "\n",
    "# display the sizes of the datasets\n",
    "print(f\"Training set for ham: {len(train_ham2)}\")\n",
    "print(f\"Training set for spam: {len(train_spam2)}\")\n",
    "print(f\"Testing set: {len(test_set2)}\")\n",
    "\n",
    "# create a combined training DataFrame for ham and spam\n",
    "train_df2 = pd.concat([train_ham2, train_spam2], ignore_index=True)\n",
    " \n",
    "# display the first few rows of the combined training set\n",
    "print(\"Combined Training DataFrame:\")\n",
    "print(train_df2.head())\n",
    "\n",
    "# display the sizes of the combined training DataFrame\n",
    "print(f\"Total number of emails in train_df: {len(train_df2)}\")\n"
   ]
  },
  {
   "cell_type": "code",
   "execution_count": 48,
   "id": "eeb6a2f4-8975-4ee0-bad6-3bee16c085d1",
   "metadata": {},
   "outputs": [
    {
     "name": "stdout",
     "output_type": "stream",
     "text": [
      "           word  count\n",
      "6457         px  34320\n",
      "113167     \u001bb\u001bb  18352\n",
      "13366      nbsp  16921\n",
      "23         will  12899\n",
      "47408     float  12726\n",
      "...         ...    ...\n",
      "128393     helm     26\n",
      "974     porting     26\n",
      "44585   recieve     26\n",
      "8014    ruetten     26\n",
      "15329     hadnt     26\n",
      "\n",
      "[10000 rows x 2 columns]\n"
     ]
    }
   ],
   "source": [
    "# combine messages from ham and spam sets\n",
    "combined_messages2 = pd.concat([train_ham2['email_message'], train_spam2['email_message']])\n",
    "\n",
    "# counter for word occurence using Counter()\n",
    "word_counts = Counter()\n",
    "\n",
    "for message in combined_messages:\n",
    "    # split the message into words\n",
    "    words = message.split()  \n",
    "    # update the counts with the words from the message\n",
    "    word_counts.update(words)  \n",
    "\n",
    "# create a dataframe from the word counts\n",
    "word_frequency_df = pd.DataFrame(word_counts.items(), columns=['word', 'count'])\n",
    "\n",
    "# sort by count in descending order and take the top 10000 words\n",
    "top_10000_words = word_frequency_df.sort_values(by='count', ascending=False).head(10000)\n",
    "\n",
    "# display the top 10000 words\n",
    "print(top_10000_words)"
   ]
  },
  {
   "cell_type": "code",
   "execution_count": 50,
   "id": "70f0ba08-57d7-4fc1-a530-e85ccad037f7",
   "metadata": {},
   "outputs": [
    {
     "name": "stdout",
     "output_type": "stream",
     "text": [
      "Prior Probability of Ham: 0.3531924882629108\n",
      "Prior Probability of Spam: 0.6468075117370892\n"
     ]
    }
   ],
   "source": [
    "p_ham2, p_spam2 = compute_priors(df_2)\n",
    "print(f\"Prior Probability of Ham: {p_ham2}\")\n",
    "print(f\"Prior Probability of Spam: {p_spam2}\")"
   ]
  },
  {
   "cell_type": "code",
   "execution_count": 54,
   "id": "e60f30d2-0739-411c-8bc0-04ab2c6fe8e2",
   "metadata": {},
   "outputs": [
    {
     "name": "stdout",
     "output_type": "stream",
     "text": [
      "Word likelihoods for ham and spam: \n",
      "Ham:\n",
      " [0.04722283139616021, 0.00028858230825973405, 0.0018122370860663092, 0.0022069817978827328, 0.0004311290097489982, 0.00011812436452082379, 0.00018491197990390558, 0.012150361849319165, 0.0009459917462469348, 0.001602902769193963]\n",
      "Spam:\n",
      " [6.443473167214888e-05, 0.0003311855089442617, 0.00016807101338259811, 0.004954715450817825, 0.0003181183255981616, 0.0003383949894110756, 0.0053228495471545085, 0.0011746947235614833, 0.00012841887081512188, 0.00012301176046501148]\n"
     ]
    }
   ],
   "source": [
    "word_likelihood2, total_ham_words2, total_spam_words2, vocabulary_size2 = compute_word_likelihood(train_df2, 1, 1)\n",
    "print(\"Word likelihoods for ham and spam: \")\n",
    "\n",
    "# printing only 10 likelihoods because of jupyter kernel constraints\n",
    "print(\"Ham:\\n\", list(word_likelihood2['ham'].values())[:10])\n",
    "print(\"Spam:\\n\", list(word_likelihood2['spam'].values())[:10])"
   ]
  },
  {
   "cell_type": "code",
   "execution_count": 55,
   "id": "e34f76b1-3227-4d6a-bba7-a3d431042108",
   "metadata": {},
   "outputs": [
    {
     "name": "stdout",
     "output_type": "stream",
     "text": [
      "Test Set with Predictions:\n",
      "                                           email_message  classification  \\\n",
      "21300  charsetusascii where we can hesitantly derive ...               1   \n",
      "21301  there are several things you can use to perfor...               0   \n",
      "21302  best offer of the month viggra ci ialis vaiium...               1   \n",
      "21303  this is multipart message in mime format nextp...               1   \n",
      "21304  this is multipart message in mime format nextp...               1   \n",
      "\n",
      "       predicted_class  \n",
      "21300                1  \n",
      "21301                0  \n",
      "21302                1  \n",
      "21303                1  \n",
      "21304                1  \n"
     ]
    },
    {
     "name": "stderr",
     "output_type": "stream",
     "text": [
      "C:\\Users\\Zyrex\\AppData\\Local\\Temp\\ipykernel_1672\\2850990977.py:9: SettingWithCopyWarning: \n",
      "A value is trying to be set on a copy of a slice from a DataFrame.\n",
      "Try using .loc[row_indexer,col_indexer] = value instead\n",
      "\n",
      "See the caveats in the documentation: https://pandas.pydata.org/pandas-docs/stable/user_guide/indexing.html#returning-a-view-versus-a-copy\n",
      "  test_set2['predicted_class'] = predictions2\n"
     ]
    }
   ],
   "source": [
    "# Testing the Classifier\n",
    "predictions2 = []\n",
    "\n",
    "for index, row in test_set.iterrows():\n",
    "    email2 = row['email_message']\n",
    "    prediction2 = classify_email(email2, word_likelihood2, p_ham2, p_spam2, total_ham_words2, total_spam_words2, vocabulary_size2)\n",
    "    predictions2.append(prediction2)\n",
    "\n",
    "test_set2['predicted_class'] = predictions2\n",
    "# print(predictions2)\n",
    "\n",
    "print(\"Test Set with Predictions:\")\n",
    "print(test_set2[['email_message', 'classification', 'predicted_class']].head())"
   ]
  },
  {
   "cell_type": "code",
   "execution_count": 58,
   "id": "454c6113-eb57-4a26-8fed-65a97024b176",
   "metadata": {},
   "outputs": [
    {
     "name": "stdout",
     "output_type": "stream",
     "text": [
      "Accuracy: The percentage of correctly identified spam and ham emails is 0.950853407577775.\n",
      "\n",
      "Recall: The percentage of spam emails that are correctly classified as spam is 0.953480017961383.\n",
      "\n",
      "Precision: number of relevant documents identified as a percentage of all documents identified is 0.9730547154248007.\n",
      "\n"
     ]
    }
   ],
   "source": [
    "# Performance Evaluation\n",
    "# true_label =\n",
    "\n",
    "tp = 0\n",
    "tn = 0\n",
    "fp = 0\n",
    "fn = 0\n",
    "\n",
    "for index, row in test_set2.iterrows():\n",
    "    actual = row['classification']\n",
    "    predicted = row['predicted_class']\n",
    "\n",
    "    if actual == 1 and predicted == 1:\n",
    "        tp += 1\n",
    "    elif actual == 0 and predicted == 0:\n",
    "        tn += 1\n",
    "    elif actual == 0 and predicted == 1:\n",
    "        fp += 1\n",
    "    elif actual == 1 and predicted == 0:\n",
    "        fn += 1\n",
    "\n",
    "accuracy2 = (tn + tp) / (tn + tp + fp + fn)\n",
    "recall2 = tp / (tp + fn)\n",
    "precision2 = tp / (tp + fp)\n",
    "\n",
    "print(f\"Accuracy: The percentage of correctly identified spam and ham emails is {accuracy2}.\\n\")\n",
    "print(f\"Recall: The percentage of spam emails that are correctly classified as spam is {recall2}.\\n\")\n",
    "print(f\"Precision: number of relevant documents identified as a percentage of all documents identified is {precision2}.\\n\")\n",
    "\n"
   ]
  },
  {
   "cell_type": "markdown",
   "id": "2b74f872-a332-4e3f-bb36-5906922ed66e",
   "metadata": {},
   "source": [
    "### 1. What is the effect of removing stop words in terms of precision, recall, and accuracy? Show a plot or a table of these results"
   ]
  },
  {
   "cell_type": "code",
   "execution_count": 66,
   "id": "ff512546-c904-41dc-ba99-42dde43bd31a",
   "metadata": {},
   "outputs": [
    {
     "data": {
      "image/png": "[encoded data removed]",
      "text/plain": [
       "<Figure size 800x500 with 1 Axes>"
      ]
     },
     "metadata": {},
     "output_type": "display_data"
    },
    {
     "name": "stdout",
     "output_type": "stream",
     "text": [
      "\n",
      "\n"
     ]
    },
    {
     "data": {
      "image/png": "[encoded data removed]",
      "text/plain": [
       "<Figure size 800x500 with 1 Axes>"
      ]
     },
     "metadata": {},
     "output_type": "display_data"
    }
   ],
   "source": [
    "\n",
    "# wehn stop words are removed\n",
    "metrics = {\n",
    "    'Accuracy': accuracy2,\n",
    "    'Recall': recall2,\n",
    "    'Precision': precision2\n",
    "}\n",
    "\n",
    "# bar plot\n",
    "plt.figure(figsize=(8, 5))\n",
    "plt.bar(metrics.keys(), metrics.values(), color=['blue', 'orange', 'green'])\n",
    "plt.ylim(0, 1)  \n",
    "plt.ylabel('Score')\n",
    "plt.title('Accuracy, Recall, and Precision when Stop Words are not Removed')\n",
    "\n",
    "# add value labels on top of the bars\n",
    "for index, value in enumerate(metrics.values()):\n",
    "    plt.text(index, value + 0.02, f\"{value:.2f}\", ha='center', va='bottom')\n",
    "\n",
    "plt.show()\n",
    "print(\"\\n\")\n",
    "\n",
    "# 1. What is the effect of removing stop words in terms of precision, recall, and\n",
    "# accuracy? Show a plot or a table of these results\n",
    "\n",
    "# wehn stop words are removed\n",
    "metrics = {\n",
    "    'Accuracy': accuracy,\n",
    "    'Recall': recall,\n",
    "    'Precision': precision\n",
    "}\n",
    "\n",
    "# bar plot\n",
    "plt.figure(figsize=(8, 5))\n",
    "plt.bar(metrics.keys(), metrics.values(), color=['blue', 'orange', 'green'])\n",
    "plt.ylim(0, 1)  \n",
    "plt.ylabel('Score')\n",
    "plt.title('Accuracy, Recall, and Precision when Stop Words are Removed')\n",
    "\n",
    "# add value labels on top of the bars\n",
    "for index, value in enumerate(metrics.values()):\n",
    "    plt.text(index, value + 0.02, f\"{value:.2f}\", ha='center', va='bottom')\n",
    "\n",
    "plt.show()\n",
    "\n"
   ]
  },
  {
   "cell_type": "code",
   "execution_count": 68,
   "id": "93777a5f-1a6c-4074-89bb-66e56b03660a",
   "metadata": {},
   "outputs": [],
   "source": [
    " # The bar graph of the two datasets shows small differences in terms of its heights and score.\n",
    " # When stop words are removed, the scores of accuracy, recall, and precisions decreases.\n",
    " # In the current dataset or files provided for training the data, removing the stop words would not\n",
    " # have a signifcant or big changes on the scores as seen in the graph \n",
    " # Removing the stop word causes accuracy to decrease from 95% to 93% and recall from 95% to 92%.\n",
    " # However, notice that precision increases when removing stop word, it went from 97% to 98%. "
   ]
  },
  {
   "cell_type": "markdown",
   "id": "67b96af5-5339-4b62-b49b-dcea656e7232",
   "metadata": {},
   "source": [
    "## 2. Experiment on the number of words used for training. Filter the dictionary to include only words occurring more than k times (1000 words, then k > 100, and k = 50 times). For example, the word “offer” appears 150 times, that means that it will be included in the dictionary.\n"
   ]
  },
  {
   "cell_type": "code",
   "execution_count": 76,
   "id": "f6690534-ca0e-46be-931f-d37550ed88b9",
   "metadata": {},
   "outputs": [
    {
     "name": "stdout",
     "output_type": "stream",
     "text": [
      "Word likelihoods for ham and spam with k = 1000:\n",
      "Ham:\n",
      " [0.0005197453875963078, 0.0032638933148534974, 0.00021274552134771147, 0.00033303201864979306, 0.0008473914436803359, 0.0013240491307505249, 0.0001696578208215927, 0.0004093331549981284, 0.00010861691174292442, 0.003064612699920198]\n",
      "Spam:\n",
      " [9.132956689347906e-05, 0.00046942120046648334, 0.00023822327588299085, 0.0004796398932657537, 0.00018202046548700373, 0.00017435644588755094, 9.771624989302306e-05, 0.00015902840668864538, 0.00015775107008873657, 0.00015775107008873657]\n",
      "Vocabulary Size: 159250\n",
      "\n"
     ]
    }
   ],
   "source": [
    " \n",
    "# Experimenting with different values of k\n",
    "# k = 1000\n",
    "word_likelihood_k, total_ham_words_k, total_spam_words_k, vocabulary_size_k = compute_word_likelihood(train_df, 1, 100)\n",
    "print(f\"Word likelihoods for ham and spam with k = {k}:\")\n",
    "print(\"Ham:\\n\", list(word_likelihood['ham'].values())[:10])\n",
    "print(\"Spam:\\n\", list(word_likelihood['spam'].values())[:10])\n",
    "print(\"Vocabulary Size:\", vocabulary_size)\n",
    "print()\n",
    "\n"
   ]
  },
  {
   "cell_type": "code",
   "execution_count": 78,
   "id": "fddd7b7d-6fe2-4da6-a9aa-2878aa2e2e8c",
   "metadata": {},
   "outputs": [
    {
     "name": "stdout",
     "output_type": "stream",
     "text": [
      "Test Set with Predictions:\n",
      "                                           email_message  classification  \\\n",
      "21300  charsetusascii hesitantly derive perverse sati...               1   \n",
      "21301  things perform experiment display will remain ...               0   \n",
      "21302  best offer month viggra ci ialis vaiium xa naa...               1   \n",
      "21303  multipart message mime format nextpartcf chars...               1   \n",
      "21304  multipart message mime format nextpartcddeb ch...               1   \n",
      "\n",
      "       predicted_class  \n",
      "21300                1  \n",
      "21301                0  \n",
      "21302                0  \n",
      "21303                1  \n",
      "21304                1  \n"
     ]
    }
   ],
   "source": [
    "test_set_k = test_set.copy()\n",
    "# Testing the Classifier\n",
    "predictions_k = []\n",
    "\n",
    "for index, row in test_set.iterrows():\n",
    "    email = row['email_message']\n",
    "    prediction_k = classify_email(email, word_likelihood_k, p_ham, p_spam, total_ham_words_k, total_spam_words_k, vocabulary_size_k)\n",
    "    predictions_k.append(prediction_k)\n",
    "\n",
    "test_set_k['predicted_class'] = predictions_k\n",
    "\n",
    "print(\"Test Set with Predictions:\")\n",
    "print(test_set_k[['email_message', 'classification', 'predicted_class']].head())"
   ]
  },
  {
   "cell_type": "code",
   "execution_count": 80,
   "id": "d11894eb-fc92-474c-bead-c891dacf4718",
   "metadata": {},
   "outputs": [
    {
     "name": "stdout",
     "output_type": "stream",
     "text": [
      "Accuracy: The percentage of correctly identified spam and ham emails is 0.9154158092240648.\n",
      "\n",
      "Recall: The percentage of spam emails that are correctly classified as spam is 0.8999550965424338.\n",
      "\n",
      "Precision: number of relevant documents identified as a percentage of all documents identified is 0.9724877480712311.\n",
      "\n"
     ]
    }
   ],
   "source": [
    "for index, row in test_set_k.iterrows():\n",
    "    actual = row['classification']\n",
    "    predicted = row['predicted_class']\n",
    "\n",
    "    if actual == 1 and predicted == 1:\n",
    "        tp += 1\n",
    "    elif actual == 0 and predicted == 0:\n",
    "        tn += 1\n",
    "    elif actual == 0 and predicted == 1:\n",
    "        fp += 1\n",
    "    elif actual == 1 and predicted == 0:\n",
    "        fn += 1\n",
    "\n",
    "accuracy_k = (tn + tp) / (tn + tp + fp + fn)\n",
    "recall_k = tp / (tp + fn)\n",
    "precision_k = tp / (tp + fp)\n",
    "\n",
    "print(f\"Accuracy: The percentage of correctly identified spam and ham emails is {accuracy_k}.\\n\")\n",
    "print(f\"Recall: The percentage of spam emails that are correctly classified as spam is {recall_k}.\\n\")\n",
    "print(f\"Precision: number of relevant documents identified as a percentage of all documents identified is {precision_k}.\\n\")\n",
    "\n"
   ]
  },
  {
   "cell_type": "code",
   "execution_count": 82,
   "id": "91b959eb-7084-45a9-b291-28401a6dced1",
   "metadata": {},
   "outputs": [
    {
     "data": {
      "image/png": "[encoded data removed]",
      "text/plain": [
       "<Figure size 800x500 with 1 Axes>"
      ]
     },
     "metadata": {},
     "output_type": "display_data"
    }
   ],
   "source": [
    "metrics = {\n",
    "    'Accuracy': accuracy_k,\n",
    "    'Recall': recall_k,\n",
    "    'Precision': precision_k\n",
    "}\n",
    "\n",
    "# bar plot\n",
    "plt.figure(figsize=(8, 5))\n",
    "plt.bar(metrics.keys(), metrics.values(), color=['blue', 'orange', 'green'])\n",
    "plt.ylim(0, 1)  \n",
    "plt.ylabel('Score')\n",
    "plt.title('Performance Evaluation of Spam Filter')\n",
    "\n",
    "# add value labels on top of the bars\n",
    "for index, value in enumerate(metrics.values()):\n",
    "    plt.text(index, value + 0.02, f\"{value:.2f}\", ha='center', va='bottom')\n",
    "\n",
    "plt.show()\n",
    "\n"
   ]
  },
  {
   "cell_type": "code",
   "execution_count": 84,
   "id": "060cca7a-a5ce-4185-a856-9f5c2daa33af",
   "metadata": {},
   "outputs": [
    {
     "name": "stdout",
     "output_type": "stream",
     "text": [
      "Test Set with Predictions:\n",
      "                                           email_message  classification  \\\n",
      "21300  charsetusascii hesitantly derive perverse sati...               1   \n",
      "21301  things perform experiment display will remain ...               0   \n",
      "21302  best offer month viggra ci ialis vaiium xa naa...               1   \n",
      "21303  multipart message mime format nextpartcf chars...               1   \n",
      "21304  multipart message mime format nextpartcddeb ch...               1   \n",
      "\n",
      "       predicted_class  \n",
      "21300                1  \n",
      "21301                0  \n",
      "21302                0  \n",
      "21303                1  \n",
      "21304                1  \n"
     ]
    }
   ],
   "source": [
    "test_set_k = test_set.copy()\n",
    "# Testing the Classifier\n",
    "predictions_k = []\n",
    "\n",
    "for index, row in test_set.iterrows():\n",
    "    email = row['email_message']\n",
    "    prediction_k = classify_email(email, word_likelihood_k, p_ham, p_spam, total_ham_words_k, total_spam_words_k, vocabulary_size_k)\n",
    "    predictions_k.append(prediction_k)\n",
    "\n",
    "test_set_k['predicted_class'] = predictions_k\n",
    "\n",
    "print(\"Test Set with Predictions:\")\n",
    "print(test_set_k[['email_message', 'classification', 'predicted_class']].head())"
   ]
  },
  {
   "cell_type": "code",
   "execution_count": 86,
   "id": "dcc87ef5-d553-429c-91ab-e2f5e8d3b1c8",
   "metadata": {},
   "outputs": [
    {
     "name": "stdout",
     "output_type": "stream",
     "text": [
      "Word likelihoods for ham and spam with k = 1000:\n",
      "Ham:\n",
      " [0.0005197453875963078, 0.0032638933148534974, 0.00021274552134771147, 0.00033303201864979306, 0.0008473914436803359, 0.0013240491307505249, 0.0001696578208215927, 0.0004093331549981284, 0.00010861691174292442, 0.003064612699920198]\n",
      "Spam:\n",
      " [9.132956689347906e-05, 0.00046942120046648334, 0.00023822327588299085, 0.0004796398932657537, 0.00018202046548700373, 0.00017435644588755094, 9.771624989302306e-05, 0.00015902840668864538, 0.00015775107008873657, 0.00015775107008873657]\n",
      "Vocabulary Size: 159250\n",
      "\n"
     ]
    }
   ],
   "source": [
    "#  k = 100\n",
    "word_likelihood_k, total_ham_words_k, total_spam_words_k, vocabulary_size_k = compute_word_likelihood(train_df, 1, 100)\n",
    "print(f\"Word likelihoods for ham and spam with k = {k}:\")\n",
    "print(\"Ham:\\n\", list(word_likelihood['ham'].values())[:10])\n",
    "print(\"Spam:\\n\", list(word_likelihood['spam'].values())[:10])\n",
    "print(\"Vocabulary Size:\", vocabulary_size)\n",
    "print()\n",
    "\n"
   ]
  },
  {
   "cell_type": "code",
   "execution_count": 88,
   "id": "6e440145-1c2e-4839-9d8d-41d7b206cd1a",
   "metadata": {},
   "outputs": [
    {
     "name": "stdout",
     "output_type": "stream",
     "text": [
      "Test Set with Predictions:\n",
      "                                           email_message  classification  \\\n",
      "21300  charsetusascii hesitantly derive perverse sati...               1   \n",
      "21301  things perform experiment display will remain ...               0   \n",
      "21302  best offer month viggra ci ialis vaiium xa naa...               1   \n",
      "21303  multipart message mime format nextpartcf chars...               1   \n",
      "21304  multipart message mime format nextpartcddeb ch...               1   \n",
      "\n",
      "       predicted_class  \n",
      "21300                1  \n",
      "21301                0  \n",
      "21302                0  \n",
      "21303                1  \n",
      "21304                1  \n"
     ]
    }
   ],
   "source": [
    "test_set_k = test_set.copy()\n",
    "# Testing the Classifier\n",
    "predictions_k = []\n",
    "\n",
    "for index, row in test_set.iterrows():\n",
    "    email = row['email_message']\n",
    "    prediction_k = classify_email(email, word_likelihood_k, p_ham, p_spam, total_ham_words_k, total_spam_words_k, vocabulary_size_k)\n",
    "    predictions_k.append(prediction_k)\n",
    "\n",
    "test_set_k['predicted_class'] = predictions_k\n",
    "\n",
    "print(\"Test Set with Predictions:\")\n",
    "print(test_set_k[['email_message', 'classification', 'predicted_class']].head())"
   ]
  },
  {
   "cell_type": "code",
   "execution_count": 90,
   "id": "05b8dbce-8532-4948-a02b-0c46565a4c27",
   "metadata": {},
   "outputs": [
    {
     "name": "stdout",
     "output_type": "stream",
     "text": [
      "Number of correct predictions: 14539 out of 16522\n",
      "Accuracy: 93.29%\n"
     ]
    }
   ],
   "source": [
    "# calculate the number of correct predictions\n",
    "correct_predictions_k = (test_set_k['classification'] == test_set_k['predicted_class']).sum()\n",
    "total_predictions_k = len(test_set_k)\n",
    "calculated_accuracy_k = correct_predictions_k/total_predictions_k\n",
    "\n",
    "print(f\"Number of correct predictions: {correct_predictions_k} out of {total_predictions_k}\")\n",
    "print(f\"Accuracy: {accuracy:.2%}\")\n"
   ]
  },
  {
   "cell_type": "code",
   "execution_count": 92,
   "id": "85e6d2bd-2232-4a3c-a17e-7c0dd92941f1",
   "metadata": {},
   "outputs": [
    {
     "name": "stdout",
     "output_type": "stream",
     "text": [
      "Accuracy: The percentage of correctly identified spam and ham emails is 0.9036032764394948.\n",
      "\n",
      "Recall: The percentage of spam emails that are correctly classified as spam is 0.8821134560694507.\n",
      "\n",
      "Precision: number of relevant documents identified as a percentage of all documents identified is 0.9722836308443594.\n",
      "\n"
     ]
    }
   ],
   "source": [
    "for index, row in test_set_k.iterrows():\n",
    "    actual = row['classification']\n",
    "    predicted = row['predicted_class']\n",
    "\n",
    "    if actual == 1 and predicted == 1:\n",
    "        tp += 1\n",
    "    elif actual == 0 and predicted == 0:\n",
    "        tn += 1\n",
    "    elif actual == 0 and predicted == 1:\n",
    "        fp += 1\n",
    "    elif actual == 1 and predicted == 0:\n",
    "        fn += 1\n",
    "\n",
    "accuracy_k = (tn + tp) / (tn + tp + fp + fn)\n",
    "recall_k = tp / (tp + fn)\n",
    "precision_k = tp / (tp + fp)\n",
    "\n",
    "print(f\"Accuracy: The percentage of correctly identified spam and ham emails is {accuracy_k}.\\n\")\n",
    "print(f\"Recall: The percentage of spam emails that are correctly classified as spam is {recall_k}.\\n\")\n",
    "print(f\"Precision: number of relevant documents identified as a percentage of all documents identified is {precision_k}.\\n\")\n",
    "\n"
   ]
  },
  {
   "cell_type": "code",
   "execution_count": 94,
   "id": "740d46aa-6244-4ee8-bfb8-38f1774c29c9",
   "metadata": {},
   "outputs": [
    {
     "data": {
      "image/png": "[encoded data removed]",
      "text/plain": [
       "<Figure size 800x500 with 1 Axes>"
      ]
     },
     "metadata": {},
     "output_type": "display_data"
    }
   ],
   "source": [
    "metrics = {\n",
    "    'Accuracy': accuracy_k,\n",
    "    'Recall': recall_k,\n",
    "    'Precision': precision_k\n",
    "}\n",
    "\n",
    "# bar plot\n",
    "plt.figure(figsize=(8, 5))\n",
    "plt.bar(metrics.keys(), metrics.values(), color=['blue', 'orange', 'green'])\n",
    "plt.ylim(0, 1)  \n",
    "plt.ylabel('Score')\n",
    "plt.title('Performance Evaluation of Spam Filter')\n",
    "\n",
    "# add value labels on top of the bars\n",
    "for index, value in enumerate(metrics.values()):\n",
    "    plt.text(index, value + 0.02, f\"{value:.2f}\", ha='center', va='bottom')\n",
    "\n",
    "plt.show()\n",
    "\n"
   ]
  },
  {
   "cell_type": "code",
   "execution_count": 96,
   "id": "bd066a49-0e9c-46c4-bd97-d8c3bac6754d",
   "metadata": {},
   "outputs": [
    {
     "name": "stdout",
     "output_type": "stream",
     "text": [
      "Word likelihoods for ham and spam with k = 1000:\n",
      "Ham:\n",
      " [0.0005197453875963078, 0.0032638933148534974, 0.00021274552134771147, 0.00033303201864979306, 0.0008473914436803359, 0.0013240491307505249, 0.0001696578208215927, 0.0004093331549981284, 0.00010861691174292442, 0.003064612699920198]\n",
      "Spam:\n",
      " [9.132956689347906e-05, 0.00046942120046648334, 0.00023822327588299085, 0.0004796398932657537, 0.00018202046548700373, 0.00017435644588755094, 9.771624989302306e-05, 0.00015902840668864538, 0.00015775107008873657, 0.00015775107008873657]\n",
      "Vocabulary Size: 159250\n",
      "\n"
     ]
    }
   ],
   "source": [
    "#  k = 50\n",
    "word_likelihood_k, total_ham_words_k, total_spam_words_k, vocabulary_size_k = compute_word_likelihood(train_df, 1, 50)\n",
    "print(f\"Word likelihoods for ham and spam with k = {k}:\")\n",
    "print(\"Ham:\\n\", list(word_likelihood['ham'].values())[:10])\n",
    "print(\"Spam:\\n\", list(word_likelihood['spam'].values())[:10])\n",
    "print(\"Vocabulary Size:\", vocabulary_size)\n",
    "print()\n",
    "\n"
   ]
  },
  {
   "cell_type": "code",
   "execution_count": 98,
   "id": "e41f0d6f-3a85-43df-a59d-e89ee073e0cd",
   "metadata": {},
   "outputs": [
    {
     "name": "stdout",
     "output_type": "stream",
     "text": [
      "Test Set with Predictions:\n",
      "                                           email_message  classification  \\\n",
      "21300  charsetusascii hesitantly derive perverse sati...               1   \n",
      "21301  things perform experiment display will remain ...               0   \n",
      "21302  best offer month viggra ci ialis vaiium xa naa...               1   \n",
      "21303  multipart message mime format nextpartcf chars...               1   \n",
      "21304  multipart message mime format nextpartcddeb ch...               1   \n",
      "\n",
      "       predicted_class  \n",
      "21300                1  \n",
      "21301                0  \n",
      "21302                0  \n",
      "21303                1  \n",
      "21304                1  \n"
     ]
    }
   ],
   "source": [
    "test_set_k = test_set.copy()\n",
    "# Testing the Classifier\n",
    "predictions_k = []\n",
    "\n",
    "for index, row in test_set.iterrows():\n",
    "    email = row['email_message']\n",
    "    prediction_k = classify_email(email, word_likelihood_k, p_ham, p_spam, total_ham_words_k, total_spam_words_k, vocabulary_size_k)\n",
    "    predictions_k.append(prediction_k)\n",
    "\n",
    "test_set_k['predicted_class'] = predictions_k\n",
    "\n",
    "print(\"Test Set with Predictions:\")\n",
    "print(test_set_k[['email_message', 'classification', 'predicted_class']].head())"
   ]
  },
  {
   "cell_type": "code",
   "execution_count": 100,
   "id": "fac7f45f-d874-4429-a064-e97f631f5fbc",
   "metadata": {},
   "outputs": [
    {
     "name": "stdout",
     "output_type": "stream",
     "text": [
      "Number of correct predictions: 14720 out of 16522\n",
      "Accuracy: 93.29%\n"
     ]
    }
   ],
   "source": [
    "# calculate the number of correct predictions\n",
    "correct_predictions_k = (test_set_k['classification'] == test_set_k['predicted_class']).sum()\n",
    "total_predictions_k = len(test_set_k)\n",
    "calculated_accuracy_k = correct_predictions_k/total_predictions_k\n",
    "\n",
    "print(f\"Number of correct predictions: {correct_predictions_k} out of {total_predictions_k}\")\n",
    "print(f\"Accuracy: {accuracy:.2%}\")\n"
   ]
  },
  {
   "cell_type": "code",
   "execution_count": 102,
   "id": "6b1c0dfc-c598-4d6a-ba7b-000895f44fd7",
   "metadata": {},
   "outputs": [
    {
     "name": "stdout",
     "output_type": "stream",
     "text": [
      "Accuracy: The percentage of correctly identified spam and ham emails is 0.9004357825929065.\n",
      "\n",
      "Recall: The percentage of spam emails that are correctly classified as spam is 0.8769420745397396.\n",
      "\n",
      "Precision: number of relevant documents identified as a percentage of all documents identified is 0.9726330992579312.\n",
      "\n"
     ]
    }
   ],
   "source": [
    "for index, row in test_set_k.iterrows():\n",
    "    actual = row['classification']\n",
    "    predicted = row['predicted_class']\n",
    "\n",
    "    if actual == 1 and predicted == 1:\n",
    "        tp += 1\n",
    "    elif actual == 0 and predicted == 0:\n",
    "        tn += 1\n",
    "    elif actual == 0 and predicted == 1:\n",
    "        fp += 1\n",
    "    elif actual == 1 and predicted == 0:\n",
    "        fn += 1\n",
    "\n",
    "accuracy_k = (tn + tp) / (tn + tp + fp + fn)\n",
    "recall_k = tp / (tp + fn)\n",
    "precision_k = tp / (tp + fp)\n",
    "\n",
    "print(f\"Accuracy: The percentage of correctly identified spam and ham emails is {accuracy_k}.\\n\")\n",
    "print(f\"Recall: The percentage of spam emails that are correctly classified as spam is {recall_k}.\\n\")\n",
    "print(f\"Precision: number of relevant documents identified as a percentage of all documents identified is {precision_k}.\\n\")\n",
    "\n"
   ]
  },
  {
   "cell_type": "code",
   "execution_count": 104,
   "id": "e3475ebe-fa63-4004-a04e-92796cf3f5be",
   "metadata": {},
   "outputs": [
    {
     "data": {
      "image/png": "[encoded data removed]",
      "text/plain": [
       "<Figure size 800x500 with 1 Axes>"
      ]
     },
     "metadata": {},
     "output_type": "display_data"
    }
   ],
   "source": [
    "metrics = {\n",
    "    'Accuracy': accuracy_k,\n",
    "    'Recall': recall_k,\n",
    "    'Precision': precision_k\n",
    "}\n",
    "\n",
    "# bar plot\n",
    "plt.figure(figsize=(8, 5))\n",
    "plt.bar(metrics.keys(), metrics.values(), color=['blue', 'orange', 'green'])\n",
    "plt.ylim(0, 1)  \n",
    "plt.ylabel('Score')\n",
    "plt.title('Performance Evaluation of Spam Filter')\n",
    "\n",
    "# add value labels on top of the bars\n",
    "for index, value in enumerate(metrics.values()):\n",
    "    plt.text(index, value + 0.02, f\"{value:.2f}\", ha='center', va='bottom')\n",
    "\n",
    "plt.show()\n",
    "\n"
   ]
  },
  {
   "cell_type": "code",
   "execution_count": 106,
   "id": "08e20c25-ab5e-4a4c-b53c-6461b5c1abe0",
   "metadata": {},
   "outputs": [],
   "source": [
    "# Decreasing the minimum k will change the performance \n",
    "# Changing from k = 1000 to k = 100, we saw a sudden drop in the acuracy and recall\n",
    "# However, when setting k = 50, the performance becomes higher again\n",
    "# This implies that decreasing the minimum presence of occuring words can greatly affect the performance scores\n"
   ]
  },
  {
   "cell_type": "markdown",
   "id": "5f34855e-1026-43ff-adcc-c5ab11f123b8",
   "metadata": {},
   "source": [
    "## 3. Discuss the results of the different parameters used for Lambda smoothing. Test it on 5 varying values of the λ (e.g. λ = 2.0, 1.0, 0.5, 0.1, 0.005), Evaluate performance metrics for each."
   ]
  },
  {
   "cell_type": "code",
   "execution_count": 108,
   "id": "6d551584-2767-4581-9151-4981fee92149",
   "metadata": {},
   "outputs": [
    {
     "name": "stdout",
     "output_type": "stream",
     "text": [
      "Word likelihoods for ham and spam: \n",
      "Ham:\n",
      " [0.0006048904129623336, 0.003804084178458919, 0.00024698257266143984, 0.0003872154691536029, 0.0009868680787805389, 0.0015425670939845583, 0.00019674989332096353, 0.00047616917215236303, 0.00012558693092195542, 0.003571758036509216]\n",
      "Spam:\n",
      " [0.00010090568546211667, 0.0005215680973037636, 0.0002643387170897835, 0.0005329373516778621, 0.00020180781803224142, 0.00019328087725166751, 0.00010801146944592826, 0.00017622699569051965, 0.00017480583889375735, 0.00017480583889375735]\n"
     ]
    }
   ],
   "source": [
    "# gamma param = 0.005\n",
    "word_likelihood_g, total_ham_words_g, total_spam_words_g, vocabulary_size_g = compute_word_likelihood(train_df, 0.005, 1)\n",
    "print(\"Word likelihoods for ham and spam: \")\n",
    "\n",
    "# printing only 10 likelihoods because of jupyter kernel constraints\n",
    "print(\"Ham:\\n\", list(word_likelihood_g['ham'].values())[:10])\n",
    "print(\"Spam:\\n\", list(word_likelihood_g['spam'].values())[:10])"
   ]
  },
  {
   "cell_type": "code",
   "execution_count": 110,
   "id": "a240447e-ed16-45e6-a8a0-806c82d14539",
   "metadata": {},
   "outputs": [],
   "source": [
    "# print(word_likelihood"
   ]
  },
  {
   "cell_type": "code",
   "execution_count": 112,
   "id": "2c62990a-f8ca-4167-a04a-26bdf7c390d0",
   "metadata": {},
   "outputs": [
    {
     "name": "stdout",
     "output_type": "stream",
     "text": [
      "Test Set with Predictions:\n",
      "                                           email_message  classification  \\\n",
      "21300  charsetusascii hesitantly derive perverse sati...               1   \n",
      "21301  things perform experiment display will remain ...               0   \n",
      "21302  best offer month viggra ci ialis vaiium xa naa...               1   \n",
      "21303  multipart message mime format nextpartcf chars...               1   \n",
      "21304  multipart message mime format nextpartcddeb ch...               1   \n",
      "\n",
      "       predicted_class  \n",
      "21300                1  \n",
      "21301                0  \n",
      "21302                1  \n",
      "21303                1  \n",
      "21304                1  \n"
     ]
    }
   ],
   "source": [
    "# Testing the Classifier\n",
    "test_set_g = test_set.copy()\n",
    "predictions_g = []\n",
    "\n",
    "for index, row in test_set.iterrows():\n",
    "    email = row['email_message']\n",
    "    prediction_g = classify_email(email, word_likelihood_g, p_ham, p_spam, total_ham_words_g, total_spam_words_g, vocabulary_size_g)\n",
    "    predictions_g.append(prediction_g)\n",
    "\n",
    "# print(predictions3)\n",
    "\n",
    "test_set_g['predicted_class'] = predictions_g\n",
    "# print(predictions2)\n",
    "\n",
    "print(\"Test Set with Predictions:\")\n",
    "print(test_set_g[['email_message', 'classification', 'predicted_class']].head())"
   ]
  },
  {
   "cell_type": "code",
   "execution_count": 114,
   "id": "1f0b7601-6f27-41b2-8004-eefaab15d72a",
   "metadata": {},
   "outputs": [
    {
     "name": "stdout",
     "output_type": "stream",
     "text": [
      "Number of correct predictions: 15383 out of 16522\n",
      "Accuracy: 93.29%\n"
     ]
    }
   ],
   "source": [
    "# calculate the number of correct predictions\n",
    "correct_predictions_g = (test_set_g['classification'] == test_set_g['predicted_class']).sum()\n",
    "total_predictions_g = len(test_set_g)\n",
    "calculated_accuracy_g = correct_predictions_g/total_predictions_g\n",
    "\n",
    "print(f\"Number of correct predictions: {correct_predictions_g} out of {total_predictions_g}\")\n",
    "print(f\"Accuracy: {accuracy:.2%}\")\n"
   ]
  },
  {
   "cell_type": "code",
   "execution_count": 116,
   "id": "febc1161-400b-47b5-8ca0-d545340d2f0e",
   "metadata": {},
   "outputs": [
    {
     "name": "stdout",
     "output_type": "stream",
     "text": [
      "Accuracy: The percentage of correctly identified spam and ham emails is 0.9065609490376467.\n",
      "\n",
      "Recall: The percentage of spam emails that are correctly classified as spam is 0.8852986079928155.\n",
      "\n",
      "Precision: number of relevant documents identified as a percentage of all documents identified is 0.9736675753624906.\n",
      "\n"
     ]
    }
   ],
   "source": [
    "# Performance Evaluation\n",
    "\n",
    "for index, row in test_set_g.iterrows():\n",
    "    actual = row['classification']\n",
    "    predicted = row['predicted_class']\n",
    "\n",
    "    if actual == 1 and predicted == 1:\n",
    "        tp += 1\n",
    "    elif actual == 0 and predicted == 0:\n",
    "        tn += 1\n",
    "    elif actual == 0 and predicted == 1:\n",
    "        fp += 1\n",
    "    elif actual == 1 and predicted == 0:\n",
    "        fn += 1\n",
    "\n",
    "accuracy_g = (tn + tp) / (tn + tp + fp + fn)\n",
    "recall_g = tp / (tp + fn)\n",
    "precision_g = tp / (tp + fp)\n",
    "\n",
    "print(f\"Accuracy: The percentage of correctly identified spam and ham emails is {accuracy_g}.\\n\")\n",
    "print(f\"Recall: The percentage of spam emails that are correctly classified as spam is {recall_g}.\\n\")\n",
    "print(f\"Precision: number of relevant documents identified as a percentage of all documents identified is {precision_g}.\\n\")\n",
    "\n"
   ]
  },
  {
   "cell_type": "code",
   "execution_count": 117,
   "id": "80455b8e-1b2b-4c60-907b-d331f8fb8d48",
   "metadata": {},
   "outputs": [
    {
     "data": {
      "image/png": "[encoded data removed]",
      "text/plain": [
       "<Figure size 800x500 with 1 Axes>"
      ]
     },
     "metadata": {},
     "output_type": "display_data"
    }
   ],
   "source": [
    "metrics = {\n",
    "    'Accuracy': accuracy_g,\n",
    "    'Recall': recall_g,\n",
    "    'Precision': precision_g\n",
    "}\n",
    "\n",
    "# bar plot\n",
    "plt.figure(figsize=(8, 5))\n",
    "plt.bar(metrics.keys(), metrics.values(), color=['blue', 'orange', 'green'])\n",
    "plt.ylim(0, 1)  \n",
    "plt.ylabel('Score')\n",
    "plt.title('Performance Evaluation of Spam Filter')\n",
    "\n",
    "# add value labels on top of the bars\n",
    "for index, value in enumerate(metrics.values()):\n",
    "    plt.text(index, value + 0.02, f\"{value:.2f}\", ha='center', va='bottom')\n",
    "\n",
    "plt.show()\n",
    "\n"
   ]
  },
  {
   "cell_type": "code",
   "execution_count": 120,
   "id": "97f7d1bb-0fad-4ac4-9b4a-852377fc12ae",
   "metadata": {},
   "outputs": [
    {
     "name": "stdout",
     "output_type": "stream",
     "text": [
      "Word likelihoods for ham and spam: \n",
      "Ham:\n",
      " [0.0005955606470502183, 0.0037448927661170184, 0.0002432310478611945, 0.0003812783177188822, 0.0009715849268864572, 0.0015186229887852046, 0.0001937812795539631, 0.00046884561576293783, 0.00012372744111871858, 0.0035161875876960733]\n",
      "Spam:\n",
      " [9.989925711790994e-05, 0.0005160875767083582, 0.00026159404344528006, 0.0005273359096702622, 0.000199728212154808, 0.00019129196243338002, 0.00010692946521909994, 0.00017441946299052397, 0.00017301342137028599, 0.00017301342137028599]\n"
     ]
    }
   ],
   "source": [
    "# 3. Discuss the results of the different parameters used for Lambda smoothing. \n",
    "# Test it on 5 varying values of the λ (e.g. λ = 2.0, 1.0, 0.5, 0.1, 0.005), \n",
    "# Evaluate performance metrics for each.\n",
    "\n",
    "# gamma param = 0.1\n",
    "word_likelihood_g, total_ham_words_g, total_spam_words_g, vocabulary_size_g = compute_word_likelihood(train_df, 0.1, 1)\n",
    "print(\"Word likelihoods for ham and spam: \")\n",
    "\n",
    "# printing only 10 likelihoods because of jupyter kernel constraints\n",
    "print(\"Ham:\\n\", list(word_likelihood_g['ham'].values())[:10])\n",
    "print(\"Spam:\\n\", list(word_likelihood_g['spam'].values())[:10])"
   ]
  },
  {
   "cell_type": "code",
   "execution_count": 121,
   "id": "7b7f778b-ce0f-454c-a94c-f3f66524ef08",
   "metadata": {},
   "outputs": [
    {
     "name": "stdout",
     "output_type": "stream",
     "text": [
      "Test Set with Predictions:\n",
      "                                           email_message  classification  \\\n",
      "21300  charsetusascii hesitantly derive perverse sati...               1   \n",
      "21301  things perform experiment display will remain ...               0   \n",
      "21302  best offer month viggra ci ialis vaiium xa naa...               1   \n",
      "21303  multipart message mime format nextpartcf chars...               1   \n",
      "21304  multipart message mime format nextpartcddeb ch...               1   \n",
      "\n",
      "       predicted_class  \n",
      "21300                1  \n",
      "21301                0  \n",
      "21302                1  \n",
      "21303                1  \n",
      "21304                1  \n"
     ]
    }
   ],
   "source": [
    "# Testing the Classifier\n",
    "test_set_g = test_set.copy()\n",
    "predictions_g = []\n",
    "\n",
    "for index, row in test_set.iterrows():\n",
    "    email = row['email_message']\n",
    "    prediction_g = classify_email(email, word_likelihood_g, p_ham, p_spam, total_ham_words_g, total_spam_words_g, vocabulary_size_g)\n",
    "    predictions_g.append(prediction_g)\n",
    "\n",
    "# print(predictions3)\n",
    "\n",
    "test_set_g['predicted_class'] = predictions_g\n",
    "# print(predictions2)\n",
    "\n",
    "print(\"Test Set with Predictions:\")\n",
    "print(test_set_g[['email_message', 'classification', 'predicted_class']].head())"
   ]
  },
  {
   "cell_type": "code",
   "execution_count": 122,
   "id": "8a409b59-a980-48bf-8e4f-cd4190d665cc",
   "metadata": {},
   "outputs": [
    {
     "name": "stdout",
     "output_type": "stream",
     "text": [
      "Number of correct predictions: 15382 out of 16522\n",
      "Accuracy: 93.29%\n"
     ]
    }
   ],
   "source": [
    "# calculate the number of correct predictions\n",
    "correct_predictions_g = (test_set_g['classification'] == test_set_g['predicted_class']).sum()\n",
    "total_predictions_g = len(test_set_g)\n",
    "calculated_accuracy_g = correct_predictions_g/total_predictions_g\n",
    "\n",
    "print(f\"Number of correct predictions: {correct_predictions_g} out of {total_predictions_g}\")\n",
    "print(f\"Accuracy: {accuracy:.2%}\")\n"
   ]
  },
  {
   "cell_type": "code",
   "execution_count": 123,
   "id": "7bd31803-7ecf-4871-b875-1800c6e73e79",
   "metadata": {},
   "outputs": [
    {
     "name": "stdout",
     "output_type": "stream",
     "text": [
      "Accuracy: The percentage of correctly identified spam and ham emails is 0.9106343057741193.\n",
      "\n",
      "Recall: The percentage of spam emails that are correctly classified as spam is 0.890869630294866.\n",
      "\n",
      "Precision: number of relevant documents identified as a percentage of all documents identified is 0.9743316908671239.\n",
      "\n"
     ]
    }
   ],
   "source": [
    "# Performance Evaluation\n",
    "\n",
    "for index, row in test_set_g.iterrows():\n",
    "    actual = row['classification']\n",
    "    predicted = row['predicted_class']\n",
    "\n",
    "    if actual == 1 and predicted == 1:\n",
    "        tp += 1\n",
    "    elif actual == 0 and predicted == 0:\n",
    "        tn += 1\n",
    "    elif actual == 0 and predicted == 1:\n",
    "        fp += 1\n",
    "    elif actual == 1 and predicted == 0:\n",
    "        fn += 1\n",
    "\n",
    "accuracy_g = (tn + tp) / (tn + tp + fp + fn)\n",
    "recall_g = tp / (tp + fn)\n",
    "precision_g = tp / (tp + fp)\n",
    "\n",
    "print(f\"Accuracy: The percentage of correctly identified spam and ham emails is {accuracy_g}.\\n\")\n",
    "print(f\"Recall: The percentage of spam emails that are correctly classified as spam is {recall_g}.\\n\")\n",
    "print(f\"Precision: number of relevant documents identified as a percentage of all documents identified is {precision_g}.\\n\")\n",
    "\n"
   ]
  },
  {
   "cell_type": "code",
   "execution_count": 125,
   "id": "c923f828-902d-43fb-96e0-adc71d3d621b",
   "metadata": {},
   "outputs": [
    {
     "name": "stdout",
     "output_type": "stream",
     "text": [
      "Word likelihoods for ham and spam: \n",
      "Ham:\n",
      " [0.0005592711396756711, 0.0035146589944527263, 0.0002286389360990427, 0.0003581848872080141, 0.0009121388423232422, 0.0014254888426132705, 0.00018223441629881416, 0.00044035955768758543, 0.00011649467991515707, 0.003300038090376669]\n",
      "Spam:\n",
      " [9.588643815863048e-05, 0.0004942357110702744, 0.0002506505137830867, 0.0005050019076354539, 0.0001914364326745991, 0.00018336178525071444, 0.00010261531101186771, 0.00016721249040294508, 0.00016586671583229765, 0.00016586671583229765]\n"
     ]
    }
   ],
   "source": [
    "# 3. Discuss the results of the different parameters used for Lambda smoothing. \n",
    "# Test it on 5 varying values of the λ (e.g. λ = 2.0, 1.0, 0.5, 0.1, 0.005), \n",
    "# Evaluate performance metrics for each.\n",
    "\n",
    "# gamma param = 0.5\n",
    "word_likelihood_g, total_ham_words_g, total_spam_words_g, vocabulary_size_g = compute_word_likelihood(train_df, 0.5, 1)\n",
    "print(\"Word likelihoods for ham and spam: \")\n",
    "\n",
    "# printing only 10 likelihoods because of jupyter kernel constraints\n",
    "print(\"Ham:\\n\", list(word_likelihood_g['ham'].values())[:10])\n",
    "print(\"Spam:\\n\", list(word_likelihood_g['spam'].values())[:10])"
   ]
  },
  {
   "cell_type": "code",
   "execution_count": 126,
   "id": "195725ef-e656-4053-a855-ccc1602f5c8d",
   "metadata": {},
   "outputs": [
    {
     "name": "stdout",
     "output_type": "stream",
     "text": [
      "Test Set with Predictions:\n",
      "                                           email_message  classification  \\\n",
      "21300  charsetusascii hesitantly derive perverse sati...               1   \n",
      "21301  things perform experiment display will remain ...               0   \n",
      "21302  best offer month viggra ci ialis vaiium xa naa...               1   \n",
      "21303  multipart message mime format nextpartcf chars...               1   \n",
      "21304  multipart message mime format nextpartcddeb ch...               1   \n",
      "\n",
      "       predicted_class  \n",
      "21300                1  \n",
      "21301                0  \n",
      "21302                1  \n",
      "21303                1  \n",
      "21304                1  \n"
     ]
    }
   ],
   "source": [
    "# Testing the Classifier\n",
    "test_set_g = test_set.copy()\n",
    "predictions_g = []\n",
    "\n",
    "for index, row in test_set.iterrows():\n",
    "    email = row['email_message']\n",
    "    prediction_g = classify_email(email, word_likelihood_g, p_ham, p_spam, total_ham_words_g, total_spam_words_g, vocabulary_size_g)\n",
    "    predictions_g.append(prediction_g)\n",
    "\n",
    "# print(predictions3)\n",
    "\n",
    "test_set_g['predicted_class'] = predictions_g\n",
    "# print(predictions2)\n",
    "\n",
    "print(\"Test Set with Predictions:\")\n",
    "print(test_set_g[['email_message', 'classification', 'predicted_class']].head())"
   ]
  },
  {
   "cell_type": "code",
   "execution_count": 127,
   "id": "c2c2ab14-01bd-4252-999d-6b74c4d3ddd2",
   "metadata": {},
   "outputs": [
    {
     "name": "stdout",
     "output_type": "stream",
     "text": [
      "Number of correct predictions: 15398 out of 16522\n",
      "Accuracy: 93.29%\n"
     ]
    }
   ],
   "source": [
    "# calculate the number of correct predictions\n",
    "correct_predictions_g = (test_set_g['classification'] == test_set_g['predicted_class']).sum()\n",
    "total_predictions_g = len(test_set_g)\n",
    "calculated_accuracy_g = correct_predictions_g/total_predictions_g\n",
    "\n",
    "print(f\"Number of correct predictions: {correct_predictions_g} out of {total_predictions_g}\")\n",
    "print(f\"Accuracy: {accuracy:.2%}\")\n"
   ]
  },
  {
   "cell_type": "code",
   "execution_count": 128,
   "id": "21320aca-78d9-4bb2-b9ea-434c0ed9e0a0",
   "metadata": {},
   "outputs": [
    {
     "name": "stdout",
     "output_type": "stream",
     "text": [
      "Accuracy: The percentage of correctly identified spam and ham emails is 0.9136821899804589.\n",
      "\n",
      "Recall: The percentage of spam emails that are correctly classified as spam is 0.8950798640066714.\n",
      "\n",
      "Precision: number of relevant documents identified as a percentage of all documents identified is 0.9747806404739283.\n",
      "\n"
     ]
    }
   ],
   "source": [
    "# Performance Evaluation\n",
    "\n",
    "for index, row in test_set_g.iterrows():\n",
    "    actual = row['classification']\n",
    "    predicted = row['predicted_class']\n",
    "\n",
    "    if actual == 1 and predicted == 1:\n",
    "        tp += 1\n",
    "    elif actual == 0 and predicted == 0:\n",
    "        tn += 1\n",
    "    elif actual == 0 and predicted == 1:\n",
    "        fp += 1\n",
    "    elif actual == 1 and predicted == 0:\n",
    "        fn += 1\n",
    "\n",
    "accuracy_g = (tn + tp) / (tn + tp + fp + fn)\n",
    "recall_g = tp / (tp + fn)\n",
    "precision_g = tp / (tp + fp)\n",
    "\n",
    "print(f\"Accuracy: The percentage of correctly identified spam and ham emails is {accuracy_g}.\\n\")\n",
    "print(f\"Recall: The percentage of spam emails that are correctly classified as spam is {recall_g}.\\n\")\n",
    "print(f\"Precision: number of relevant documents identified as a percentage of all documents identified is {precision_g}.\\n\")\n",
    "\n"
   ]
  },
  {
   "cell_type": "code",
   "execution_count": 129,
   "id": "f0065d67-128c-4471-85b3-6743b9890344",
   "metadata": {},
   "outputs": [
    {
     "name": "stdout",
     "output_type": "stream",
     "text": [
      "Word likelihoods for ham and spam: \n",
      "Ham:\n",
      " [0.0005197453875963078, 0.0032638933148534974, 0.00021274552134771147, 0.00033303201864979306, 0.0008473914436803359, 0.0013240491307505249, 0.0001696578208215927, 0.0004093331549981284, 0.00010861691174292442, 0.003064612699920198]\n",
      "Spam:\n",
      " [9.132956689347906e-05, 0.00046942120046648334, 0.00023822327588299085, 0.0004796398932657537, 0.00018202046548700373, 0.00017435644588755094, 9.771624989302306e-05, 0.00015902840668864538, 0.00015775107008873657, 0.00015775107008873657]\n"
     ]
    }
   ],
   "source": [
    "# 3. Discuss the results of the different parameters used for Lambda smoothing. \n",
    "# Test it on 5 varying values of the λ (e.g. λ = 2.0, 1.0, 0.5, 0.1, 0.005), \n",
    "# Evaluate performance metrics for each.\n",
    "\n",
    "# gamma param = 1\n",
    "word_likelihood_g, total_ham_words_g, total_spam_words_g, vocabulary_size_g = compute_word_likelihood(train_df, 1, 1)\n",
    "print(\"Word likelihoods for ham and spam: \")\n",
    "\n",
    "# printing only 10 likelihoods because of jupyter kernel constraints\n",
    "print(\"Ham:\\n\", list(word_likelihood_g['ham'].values())[:10])\n",
    "print(\"Spam:\\n\", list(word_likelihood_g['spam'].values())[:10])"
   ]
  },
  {
   "cell_type": "code",
   "execution_count": 130,
   "id": "8e82023c-e507-40d8-8b5c-d2b945b5b25e",
   "metadata": {},
   "outputs": [
    {
     "name": "stdout",
     "output_type": "stream",
     "text": [
      "Test Set with Predictions:\n",
      "                                           email_message  classification  \\\n",
      "21300  charsetusascii hesitantly derive perverse sati...               1   \n",
      "21301  things perform experiment display will remain ...               0   \n",
      "21302  best offer month viggra ci ialis vaiium xa naa...               1   \n",
      "21303  multipart message mime format nextpartcf chars...               1   \n",
      "21304  multipart message mime format nextpartcddeb ch...               1   \n",
      "\n",
      "       predicted_class  \n",
      "21300                1  \n",
      "21301                0  \n",
      "21302                1  \n",
      "21303                1  \n",
      "21304                1  \n"
     ]
    }
   ],
   "source": [
    "# Testing the Classifier\n",
    "test_set_g = test_set.copy()\n",
    "predictions_g = []\n",
    "\n",
    "for index, row in test_set.iterrows():\n",
    "    email = row['email_message']\n",
    "    prediction_g = classify_email(email, word_likelihood_g, p_ham, p_spam, total_ham_words_g, total_spam_words_g, vocabulary_size_g)\n",
    "    predictions_g.append(prediction_g)\n",
    "\n",
    "# print(predictions3)\n",
    "\n",
    "test_set_g['predicted_class'] = predictions_g\n",
    "# print(predictions2)\n",
    "\n",
    "print(\"Test Set with Predictions:\")\n",
    "print(test_set_g[['email_message', 'classification', 'predicted_class']].head())"
   ]
  },
  {
   "cell_type": "code",
   "execution_count": 131,
   "id": "5a85acc6-c551-459f-87f8-671279ac2786",
   "metadata": {},
   "outputs": [
    {
     "name": "stdout",
     "output_type": "stream",
     "text": [
      "Number of correct predictions: 15414 out of 16522\n",
      "Accuracy: 93.29%\n"
     ]
    }
   ],
   "source": [
    "# calculate the number of correct predictions\n",
    "correct_predictions_g = (test_set_g['classification'] == test_set_g['predicted_class']).sum()\n",
    "total_predictions_g = len(test_set_g)\n",
    "calculated_accuracy_g = correct_predictions_g/total_predictions_g\n",
    "\n",
    "print(f\"Number of correct predictions: {correct_predictions_g} out of {total_predictions_g}\")\n",
    "print(f\"Accuracy: {accuracy:.2%}\")\n"
   ]
  },
  {
   "cell_type": "code",
   "execution_count": 132,
   "id": "93a03f47-e8f4-4cf1-b706-84f4ffa96ca9",
   "metadata": {},
   "outputs": [
    {
     "name": "stdout",
     "output_type": "stream",
     "text": [
      "Accuracy: The percentage of correctly identified spam and ham emails is 0.9160891538554654.\n",
      "\n",
      "Recall: The percentage of spam emails that are correctly classified as spam is 0.8984283789851819.\n",
      "\n",
      "Precision: number of relevant documents identified as a percentage of all documents identified is 0.9751081328053609.\n",
      "\n"
     ]
    }
   ],
   "source": [
    "# Performance Evaluation\n",
    "\n",
    "for index, row in test_set_g.iterrows():\n",
    "    actual = row['classification']\n",
    "    predicted = row['predicted_class']\n",
    "\n",
    "    if actual == 1 and predicted == 1:\n",
    "        tp += 1\n",
    "    elif actual == 0 and predicted == 0:\n",
    "        tn += 1\n",
    "    elif actual == 0 and predicted == 1:\n",
    "        fp += 1\n",
    "    elif actual == 1 and predicted == 0:\n",
    "        fn += 1\n",
    "\n",
    "accuracy_g = (tn + tp) / (tn + tp + fp + fn)\n",
    "recall_g = tp / (tp + fn)\n",
    "precision_g = tp / (tp + fp)\n",
    "\n",
    "print(f\"Accuracy: The percentage of correctly identified spam and ham emails is {accuracy_g}.\\n\")\n",
    "print(f\"Recall: The percentage of spam emails that are correctly classified as spam is {recall_g}.\\n\")\n",
    "print(f\"Precision: number of relevant documents identified as a percentage of all documents identified is {precision_g}.\\n\")\n",
    "\n"
   ]
  },
  {
   "cell_type": "code",
   "execution_count": 133,
   "id": "4e6cdd8b-be4e-44aa-a041-8dd956e24ea9",
   "metadata": {},
   "outputs": [
    {
     "name": "stdout",
     "output_type": "stream",
     "text": [
      "Word likelihoods for ham and spam: \n",
      "Ham:\n",
      " [0.00045552468983088253, 0.0028564539601981377, 0.00018692220030991388, 0.0002921641114087729, 0.0007421910894658345, 0.00115923179687997, 0.00014922360528942704, 0.00035892204009088506, 9.581726234373736e-05, 0.002682097958228386]\n",
      "Spam:\n",
      " [8.347787372580301e-05, 0.0004266646879318821, 0.00021681058870451616, 0.00043594000723474904, 0.00016579633253874763, 0.0001588398430615974, 8.927494829009489e-05, 0.0001449268641072969, 0.00014376744919443853, 0.00014376744919443853]\n"
     ]
    }
   ],
   "source": [
    "# 3. Discuss the results of the different parameters used for Lambda smoothing. \n",
    "# Test it on 5 varying values of the λ (e.g. λ = 2.0, 1.0, 0.5, 0.1, 0.005), \n",
    "# Evaluate performance metrics for each.\n",
    "\n",
    "# gamma param = 2\n",
    "word_likelihood_g, total_ham_words_g, total_spam_words_g, vocabulary_size_g = compute_word_likelihood(train_df, 2, 1)\n",
    "print(\"Word likelihoods for ham and spam: \")\n",
    "\n",
    "# printing only 10 likelihoods because of jupyter kernel constraints\n",
    "print(\"Ham:\\n\", list(word_likelihood_g['ham'].values())[:10])\n",
    "print(\"Spam:\\n\", list(word_likelihood_g['spam'].values())[:10])"
   ]
  },
  {
   "cell_type": "code",
   "execution_count": 134,
   "id": "e7abc388-9604-47ae-bc9c-fb7e973766ed",
   "metadata": {},
   "outputs": [
    {
     "name": "stdout",
     "output_type": "stream",
     "text": [
      "Test Set with Predictions:\n",
      "                                           email_message  classification  \\\n",
      "21300  charsetusascii hesitantly derive perverse sati...               1   \n",
      "21301  things perform experiment display will remain ...               0   \n",
      "21302  best offer month viggra ci ialis vaiium xa naa...               1   \n",
      "21303  multipart message mime format nextpartcf chars...               1   \n",
      "21304  multipart message mime format nextpartcddeb ch...               1   \n",
      "\n",
      "       predicted_class  \n",
      "21300                1  \n",
      "21301                0  \n",
      "21302                1  \n",
      "21303                1  \n",
      "21304                1  \n"
     ]
    }
   ],
   "source": [
    "# Testing the Classifier\n",
    "test_set_g = test_set.copy()\n",
    "predictions_g = []\n",
    "\n",
    "for index, row in test_set.iterrows():\n",
    "    email = row['email_message']\n",
    "    prediction_g = classify_email(email, word_likelihood_g, p_ham, p_spam, total_ham_words_g, total_spam_words_g, vocabulary_size_g)\n",
    "    predictions_g.append(prediction_g)\n",
    "\n",
    "# print(predictions3)\n",
    "\n",
    "test_set_g['predicted_class'] = predictions_g\n",
    "# print(predictions2)\n",
    "\n",
    "print(\"Test Set with Predictions:\")\n",
    "print(test_set_g[['email_message', 'classification', 'predicted_class']].head())"
   ]
  },
  {
   "cell_type": "code",
   "execution_count": 135,
   "id": "0b275669-dd93-4877-b41a-9f022ebe25d4",
   "metadata": {},
   "outputs": [
    {
     "name": "stdout",
     "output_type": "stream",
     "text": [
      "Number of correct predictions: 15445 out of 16522\n",
      "Accuracy: 93.29%\n"
     ]
    }
   ],
   "source": [
    "# calculate the number of correct predictions\n",
    "correct_predictions_g = (test_set_g['classification'] == test_set_g['predicted_class']).sum()\n",
    "total_predictions_g = len(test_set_g)\n",
    "calculated_accuracy_g = correct_predictions_g/total_predictions_g\n",
    "\n",
    "print(f\"Number of correct predictions: {correct_predictions_g} out of {total_predictions_g}\")\n",
    "print(f\"Accuracy: {accuracy:.2%}\")\n"
   ]
  },
  {
   "cell_type": "code",
   "execution_count": 136,
   "id": "cf19d009-4ab6-4dad-b701-5b3869e5827a",
   "metadata": {},
   "outputs": [
    {
     "name": "stdout",
     "output_type": "stream",
     "text": [
      "Accuracy: The percentage of correctly identified spam and ham emails is 0.918169713109793.\n",
      "\n",
      "Recall: The percentage of spam emails that are correctly classified as spam is 0.9014019857306791.\n",
      "\n",
      "Precision: number of relevant documents identified as a percentage of all documents identified is 0.9753079755131125.\n",
      "\n"
     ]
    }
   ],
   "source": [
    "# Performance Evaluation\n",
    "\n",
    "for index, row in test_set_g.iterrows():\n",
    "    actual = row['classification']\n",
    "    predicted = row['predicted_class']\n",
    "\n",
    "    if actual == 1 and predicted == 1:\n",
    "        tp += 1\n",
    "    elif actual == 0 and predicted == 0:\n",
    "        tn += 1\n",
    "    elif actual == 0 and predicted == 1:\n",
    "        fp += 1\n",
    "    elif actual == 1 and predicted == 0:\n",
    "        fn += 1\n",
    "\n",
    "accuracy_g = (tn + tp) / (tn + tp + fp + fn)\n",
    "recall_g = tp / (tp + fn)\n",
    "precision_g = tp / (tp + fp)\n",
    "\n",
    "print(f\"Accuracy: The percentage of correctly identified spam and ham emails is {accuracy_g}.\\n\")\n",
    "print(f\"Recall: The percentage of spam emails that are correctly classified as spam is {recall_g}.\\n\")\n",
    "print(f\"Precision: number of relevant documents identified as a percentage of all documents identified is {precision_g}.\\n\")\n",
    "\n"
   ]
  },
  {
   "cell_type": "code",
   "execution_count": 137,
   "id": "bcfe8dba-2ac4-426a-ada9-78fc0a38dfb7",
   "metadata": {},
   "outputs": [],
   "source": [
    "# Results:\n",
    "# gamma = 2: Accuracy = 0.9326525671399173, Recall = 0.9214830970556162, Precision =  0.9772906631833891.\n",
    "# gamma = 1: Accuracy = 0.9317879191381189, Recall = 0.92, Precision = 0.977462692263654\n",
    "# gamma = 0.5: Accuracy = 0.9313440664971957, Recall = 0.9192635832959137, Precision = 0.9775259438466926\n",
    "# gamma = 0.1: Accuracy = 0.9310313521365452, Recall = 0.918724741805119, Precision = 0.9775909025753738\n",
    "# gamma = 0.005: Accuracy = 0.9310616148166082, Recall = 0.918724741805119, Precision = 0.9776376146788991\n",
    "\n",
    "# as gamma decreases or approaches 0, the precision slightly increase and approach 1\n"
   ]
  },
  {
   "cell_type": "markdown",
   "id": "5b298793-565b-44f3-b754-1bea43be3a27",
   "metadata": {},
   "source": [
    "##  4. What are your recommendations to further improve the model?"
   ]
  },
  {
   "cell_type": "code",
   "execution_count": 138,
   "id": "3058da7c-1a00-4485-acde-b978379f3024",
   "metadata": {},
   "outputs": [],
   "source": [
    "# To impove the model, adding more precise filtering data is one solution.\n",
    "# The model should ensure thorough cleaning of the text data as the algorithms provided may not capture the\n",
    "# underlying stop words that are not recorded. The model should also have a precise algorithm for identifying\n",
    "# multiline email and differentiating headers from the body as well as the codes/tags that were treated as string"
   ]
  },
  {
   "cell_type": "code",
   "execution_count": null,
   "id": "0026fa2a-86c9-413d-aac7-a26a21580951",
   "metadata": {},
   "outputs": [],
   "source": []
  }
 ],
 "metadata": {
  "kernelspec": {
   "display_name": "Python 3 (ipykernel)",
   "language": "python",
   "name": "python3"
  },
  "language_info": {
   "codemirror_mode": {
    "name": "ipython",
    "version": 3
   },
   "file_extension": ".py",
   "mimetype": "text/x-python",
   "name": "python",
   "nbconvert_exporter": "python",
   "pygments_lexer": "ipython3",
   "version": "3.12.4"
  }
 },
 "nbformat": 4,
 "nbformat_minor": 5
}
